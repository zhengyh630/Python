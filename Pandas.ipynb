{
 "cells": [
  {
   "cell_type": "code",
   "execution_count": 3,
   "id": "1a8b1178",
   "metadata": {},
   "outputs": [
    {
     "name": "stdout",
     "output_type": "stream",
     "text": [
      "  name  age\n",
      "0   张三   33\n",
      "1   李四   18\n",
      "2   王五   30\n"
     ]
    }
   ],
   "source": [
    "import pandas as pd\n",
    "import numpy as np\n",
    "\n",
    "data={\"name\":[\"张三\",\"李四\",\"王五\"],\"age\":[33,18,30]}\n",
    "mydata=pd.DataFrame(data)\n",
    "print(mydata)"
   ]
  },
  {
   "cell_type": "code",
   "execution_count": 8,
   "id": "ea892eff",
   "metadata": {},
   "outputs": [
    {
     "name": "stdout",
     "output_type": "stream",
     "text": [
      "0    张三\n",
      "1    李四\n",
      "2    王五\n",
      "3    赵六\n",
      "dtype: object\n",
      "李四\n"
     ]
    }
   ],
   "source": [
    "data=['张三','李四','王五','赵六']\n",
    "myvar=pd.Series(data)\n",
    "print(myvar)\n",
    "print(myvar[1])"
   ]
  },
  {
   "cell_type": "code",
   "execution_count": 12,
   "id": "8a4c4ec1",
   "metadata": {},
   "outputs": [
    {
     "name": "stdout",
     "output_type": "stream",
     "text": [
      "a    张三\n",
      "b    李四\n",
      "c    王五\n",
      "d    赵六\n",
      "dtype: object\n",
      "王五\n"
     ]
    }
   ],
   "source": [
    "data=['张三','李四','王五','赵六']\n",
    "myvar=pd.Series(data,index=[\"a\",'b','c','d']) #更改索引\n",
    "print(myvar)\n",
    "print(myvar['c']) #通过更改后的索引打印元素"
   ]
  },
  {
   "cell_type": "code",
   "execution_count": 16,
   "id": "91231faf",
   "metadata": {},
   "outputs": [
    {
     "name": "stdout",
     "output_type": "stream",
     "text": [
      "1    张三\n",
      "2    李四\n",
      "3    王五\n",
      "4    赵六\n",
      "dtype: object\n",
      "2    李四\n",
      "4    赵六\n",
      "Name: 只要2和4两个, dtype: object\n"
     ]
    }
   ],
   "source": [
    "data={1:'张三',2:'李四',3:'王五',4:'赵六'} #通过字典创建Series,并更改索引\n",
    "myvar1=pd.Series(data)\n",
    "myvar2=pd.Series(data,index=[2,4],name='只要2和4两个') #此步可以增加index, 选择部分元素\n",
    "print(myvar1)\n",
    "print(myvar2)"
   ]
  },
  {
   "cell_type": "markdown",
   "id": "6b336dcb",
   "metadata": {},
   "source": [
    "DataFrame格式:\n",
    "pd.DataFrame(data,index,columns,dtype,copy)\n",
    "data: 一组数据(ndarry, Series,　map, lists, dict等)\n",
    "columns: 列标题\n",
    "DataFrame是一个二维的数组结构,类似二维数组."
   ]
  },
  {
   "cell_type": "code",
   "execution_count": 17,
   "id": "7c54c25a",
   "metadata": {},
   "outputs": [
    {
     "name": "stdout",
     "output_type": "stream",
     "text": [
      "  Name  Age\n",
      "0   张三   10\n",
      "1   李四   12\n",
      "2   王五   15\n"
     ]
    }
   ],
   "source": [
    "#使用列表创建DataFrame\n",
    "\n",
    "data=[['张三',10],['李四',12],['王五',15]]\n",
    "df=pd.DataFrame(data,columns=['Name','Age']) #没有设置columns的话,则标题默认为0,1....."
   ]
  },
  {
   "cell_type": "code",
   "execution_count": 22,
   "id": "1bb935ba",
   "metadata": {},
   "outputs": [
    {
     "name": "stdout",
     "output_type": "stream",
     "text": [
      "  Name  Age\n",
      "0   张三   25\n",
      "1   李四   18\n",
      "2   王五   15\n",
      "3   赵六   28\n"
     ]
    }
   ],
   "source": [
    "# 使用字典创建DataFrame\n",
    "data=[{'Name':'张三','Age':25},{'Name':'李四','Age':18},{'Name':'王五','Age':15},{'Name':'赵六','Age':28},]\n",
    "df=pd.DataFrame(data,columns=['Name','Age'])\n",
    "print(df)"
   ]
  },
  {
   "cell_type": "code",
   "execution_count": 21,
   "id": "251ce4ac",
   "metadata": {},
   "outputs": [
    {
     "name": "stdout",
     "output_type": "stream",
     "text": [
      "  Name  Age\n",
      "0   张三   10\n",
      "1   李四   15\n",
      "2   王五   25\n",
      "3   赵六   21\n",
      "  Name  Age\n",
      "a   张三   10\n",
      "b   李四   15\n",
      "c   王五   25\n",
      "d   赵六   21\n"
     ]
    }
   ],
   "source": [
    "# 使用narray创建DataFrame, ndarray长度必须相同, 如果传递了index, 则索引的长度应等于数组的长度.\n",
    "data={'Name':['张三','李四','王五','赵六'],'Age':[10,15,25,21]}\n",
    "df1=pd.DataFrame(data)\n",
    "df2=pd.DataFrame(data,index=['a','b','c','d'])\n",
    "print(df1)\n",
    "print(df2)"
   ]
  },
  {
   "cell_type": "markdown",
   "id": "456d5062",
   "metadata": {},
   "source": [
    "# CSV文件"
   ]
  },
  {
   "cell_type": "code",
   "execution_count": 30,
   "id": "c2bce97f",
   "metadata": {},
   "outputs": [
    {
     "name": "stdout",
     "output_type": "stream",
     "text": [
      "Name    张三\n",
      "Age     10\n",
      "Name: 0, dtype: object\n",
      "\n",
      "\n",
      "Name    王五\n",
      "Age     25\n",
      "Name: 2, dtype: object\n",
      "\n",
      "\n",
      "  Name  Age\n",
      "0   张三   10\n",
      "1   李四   15\n",
      "2   王五   25\n",
      "\n",
      "\n",
      "  Name  Age\n",
      "1   李四   15\n",
      "3   赵六   21\n"
     ]
    }
   ],
   "source": [
    "# 使用loc获取指定行的数据,未指定索引的话,第一行索引为0\n",
    "\n",
    "data={'Name':['张三','李四','王五','赵六'],'Age':[10,15,25,21]}\n",
    "df=pd.DataFrame(data)\n",
    "print(df.loc[0]) #获取第1行数据\n",
    "print(\"\\n\")\n",
    "print(df.loc[2]) #获取第3行数据\n",
    "print(\"\\n\")\n",
    "print(df.loc[0:2]) # 获取第1-3行数据\n",
    "print(\"\\n\")\n",
    "print(df.loc[[1,3]]) # 获取第2行和第4行数据"
   ]
  },
  {
   "cell_type": "code",
   "execution_count": 6,
   "id": "e2682758",
   "metadata": {},
   "outputs": [
    {
     "name": "stdout",
     "output_type": "stream",
     "text": [
      "      Rk             PLAYER POSITION  AGE  ...   PIE    PACE   W  SALARY_MILLIONS\n",
      "0      1  Russell Westbrook       PG   28  ...  23.0  102.31  46            26.50\n",
      "1      2       James Harden       PG   27  ...  19.0  102.98  54            26.50\n",
      "2      3      Isaiah Thomas       PG   27  ...  16.1   99.84  51             6.59\n",
      "3      4      Anthony Davis        C   23  ...  19.2  100.19  31            22.12\n",
      "4      6   DeMarcus Cousins        C   26  ...  17.8   97.11  30            16.96\n",
      "..   ...                ...      ...  ...  ...   ...     ...  ..              ...\n",
      "337  466      Brice Johnson       PF   22  ...  10.8   95.72   1             1.33\n",
      "338  471         Mike Tobey        C   22  ...  -1.6   91.41   0             0.07\n",
      "339  475         Alonzo Gee       SF   29  ...   0.8  104.33   4             0.06\n",
      "340  481     John Lucas III       PG   34  ...   7.3   94.47   3             0.98\n",
      "341  482     Aaron Harrison       SG   22  ...   0.0   92.43   2             0.87\n",
      "\n",
      "[342 rows x 38 columns]\n",
      "\n",
      "\n",
      "   Rk             PLAYER POSITION  AGE  ...   PIE    PACE   W  SALARY_MILLIONS\n",
      "0   1  Russell Westbrook       PG   28  ...  23.0  102.31  46            26.50\n",
      "1   2       James Harden       PG   27  ...  19.0  102.98  54            26.50\n",
      "2   3      Isaiah Thomas       PG   27  ...  16.1   99.84  51             6.59\n",
      "3   4      Anthony Davis        C   23  ...  19.2  100.19  31            22.12\n",
      "4   6   DeMarcus Cousins        C   26  ...  17.8   97.11  30            16.96\n",
      "\n",
      "[5 rows x 38 columns]\n",
      "\n",
      "\n",
      "      Rk          PLAYER POSITION  AGE  ...  PIE    PACE  W  SALARY_MILLIONS\n",
      "339  475      Alonzo Gee       SF   29  ...  0.8  104.33  4             0.06\n",
      "340  481  John Lucas III       PG   34  ...  7.3   94.47  3             0.98\n",
      "341  482  Aaron Harrison       SG   22  ...  0.0   92.43  2             0.87\n",
      "\n",
      "[3 rows x 38 columns]\n"
     ]
    }
   ],
   "source": [
    "import pandas as pd\n",
    "\n",
    "df=pd.read_csv(\"./data/nba.csv\") #读取CSV文件\n",
    "print(df) #返回CSV文件的前5行和后5行数据\n",
    "print(\"\\n\")\n",
    "print(df.head()) #head中不给数则返回CSV文件的前5行数据,设置数目则按要求返回\n",
    "print(\"\\n\")\n",
    "print(df.tail(3)) #tail中不给数则返回CSV文件的结尾5行数据,设置数目则按要求返回"
   ]
  },
  {
   "cell_type": "code",
   "execution_count": 8,
   "id": "e520b590",
   "metadata": {},
   "outputs": [
    {
     "name": "stdout",
     "output_type": "stream",
     "text": [
      "<class 'pandas.core.frame.DataFrame'>\n",
      "RangeIndex: 342 entries, 0 to 341\n",
      "Data columns (total 38 columns):\n",
      " #   Column           Non-Null Count  Dtype  \n",
      "---  ------           --------------  -----  \n",
      " 0   Rk               342 non-null    int64  \n",
      " 1   PLAYER           342 non-null    object \n",
      " 2   POSITION         342 non-null    object \n",
      " 3   AGE              342 non-null    int64  \n",
      " 4   MP               342 non-null    float64\n",
      " 5   FG               342 non-null    float64\n",
      " 6   FGA              342 non-null    float64\n",
      " 7   FG%              342 non-null    float64\n",
      " 8   3P               342 non-null    float64\n",
      " 9   3PA              342 non-null    float64\n",
      " 10  3P%              320 non-null    float64\n",
      " 11  2P               342 non-null    float64\n",
      " 12  2PA              342 non-null    float64\n",
      " 13  2P%              342 non-null    float64\n",
      " 14  eFG%             342 non-null    float64\n",
      " 15  FT               342 non-null    float64\n",
      " 16  FTA              342 non-null    float64\n",
      " 17  FT%              337 non-null    float64\n",
      " 18  ORB              342 non-null    float64\n",
      " 19  DRB              342 non-null    float64\n",
      " 20  TRB              342 non-null    float64\n",
      " 21  AST              342 non-null    float64\n",
      " 22  STL              342 non-null    float64\n",
      " 23  BLK              342 non-null    float64\n",
      " 24  TOV              342 non-null    float64\n",
      " 25  PF               342 non-null    float64\n",
      " 26  POINTS           342 non-null    float64\n",
      " 27  TEAM             342 non-null    object \n",
      " 28  GP               342 non-null    int64  \n",
      " 29  MPG              342 non-null    float64\n",
      " 30  ORPM             342 non-null    float64\n",
      " 31  DRPM             342 non-null    float64\n",
      " 32  RPM              342 non-null    float64\n",
      " 33  WINS_RPM         342 non-null    float64\n",
      " 34  PIE              342 non-null    float64\n",
      " 35  PACE             342 non-null    float64\n",
      " 36  W                342 non-null    int64  \n",
      " 37  SALARY_MILLIONS  342 non-null    float64\n",
      "dtypes: float64(31), int64(4), object(3)\n",
      "memory usage: 101.7+ KB\n",
      "None\n"
     ]
    }
   ],
   "source": [
    "print(df.info())"
   ]
  },
  {
   "cell_type": "markdown",
   "id": "a855b7bc",
   "metadata": {},
   "source": [
    "# Excel文件"
   ]
  },
  {
   "cell_type": "code",
   "execution_count": 13,
   "id": "cf0a6f38",
   "metadata": {},
   "outputs": [
    {
     "name": "stdout",
     "output_type": "stream",
     "text": [
      "       CensusTract State    County  POP2010\n",
      "0       1001020100    AL   Autauga     1912\n",
      "1       1001020200    AL   Autauga     2170\n",
      "2       1001020300    AL   Autauga     3373\n",
      "3       1001020400    AL   Autauga     4386\n",
      "4       1001020500    AL   Autauga    10766\n",
      "...            ...   ...       ...      ...\n",
      "72859  56043000200    WY  Washakie     3326\n",
      "72860  56043000301    WY  Washakie     2665\n",
      "72861  56043000302    WY  Washakie     2542\n",
      "72862  56045951100    WY    Weston     3314\n",
      "72863  56045951300    WY    Weston     3894\n",
      "\n",
      "[72864 rows x 4 columns]\n",
      "\n",
      "\n",
      "   CensusTract State   County  POP2010\n",
      "0   1001020100    AL  Autauga     1912\n",
      "1   1001020200    AL  Autauga     2170\n",
      "2   1001020300    AL  Autauga     3373\n",
      "3   1001020400    AL  Autauga     4386\n",
      "4   1001020500    AL  Autauga    10766\n",
      "\n",
      "\n",
      "       CensusTract State    County  POP2010\n",
      "72861  56043000302    WY  Washakie     2542\n",
      "72862  56045951100    WY    Weston     3314\n",
      "72863  56045951300    WY    Weston     3894\n"
     ]
    }
   ],
   "source": [
    "import pandas as pd\n",
    "\n",
    "df=pd.read_excel(\"./data/censuspopdata.xlsx\")\n",
    "print(df) #返回Excel文件的前5行和结尾5行数据\n",
    "print(\"\\n\")\n",
    "print(df.head()) #head中不给数则返回Excel文件的前5行数据,设置数目则按要求返回\n",
    "print(\"\\n\")\n",
    "print(df.tail(3)) #tail中不给数则返回Excel文件的结尾5行数据,设置数目则按要求返回"
   ]
  },
  {
   "cell_type": "code",
   "execution_count": 14,
   "id": "600684d3",
   "metadata": {},
   "outputs": [
    {
     "name": "stdout",
     "output_type": "stream",
     "text": [
      "<class 'pandas.core.frame.DataFrame'>\n",
      "RangeIndex: 72864 entries, 0 to 72863\n",
      "Data columns (total 4 columns):\n",
      " #   Column       Non-Null Count  Dtype \n",
      "---  ------       --------------  ----- \n",
      " 0   CensusTract  72864 non-null  int64 \n",
      " 1   State        72864 non-null  object\n",
      " 2   County       72864 non-null  object\n",
      " 3   POP2010      72864 non-null  int64 \n",
      "dtypes: int64(2), object(2)\n",
      "memory usage: 2.2+ MB\n",
      "None\n"
     ]
    }
   ],
   "source": [
    "print(df.info())"
   ]
  },
  {
   "cell_type": "markdown",
   "id": "6d4c65c3",
   "metadata": {},
   "source": [
    "# 数据清洗"
   ]
  },
  {
   "cell_type": "code",
   "execution_count": 20,
   "id": "cb1181c8",
   "metadata": {},
   "outputs": [
    {
     "name": "stdout",
     "output_type": "stream",
     "text": [
      "      Rk             PLAYER POSITION  AGE  ...   PIE    PACE   W  SALARY_MILLIONS\n",
      "0      1  Russell Westbrook       PG   28  ...  23.0  102.31  46            26.50\n",
      "1      2       James Harden       PG   27  ...  19.0  102.98  54            26.50\n",
      "2      3      Isaiah Thomas       PG   27  ...  16.1   99.84  51             6.59\n",
      "3      4      Anthony Davis        C   23  ...  19.2  100.19  31            22.12\n",
      "4      6   DeMarcus Cousins        C   26  ...  17.8   97.11  30            16.96\n",
      "..   ...                ...      ...  ...  ...   ...     ...  ..              ...\n",
      "337  466      Brice Johnson       PF   22  ...  10.8   95.72   1             1.33\n",
      "338  471         Mike Tobey        C   22  ...  -1.6   91.41   0             0.07\n",
      "339  475         Alonzo Gee       SF   29  ...   0.8  104.33   4             0.06\n",
      "340  481     John Lucas III       PG   34  ...   7.3   94.47   3             0.98\n",
      "341  482     Aaron Harrison       SG   22  ...   0.0   92.43   2             0.87\n",
      "\n",
      "[342 rows x 38 columns]\n",
      "0      False\n",
      "1      False\n",
      "2      False\n",
      "3      False\n",
      "4      False\n",
      "       ...  \n",
      "337    False\n",
      "338    False\n",
      "339    False\n",
      "340    False\n",
      "341    False\n",
      "Name: PLAYER, Length: 342, dtype: bool\n"
     ]
    }
   ],
   "source": [
    "df=pd.read_csv(\"./data/nba.csv\")\n",
    "df.dropna() #删除包含空字段的行或列, 参数axis=0删除行,axis=1删除列.\n",
    "            #how=any则一行或一列里出现任何一个NA就去掉一行或一列, how=all则一行或一列都是NA才删除行或列\n",
    "# pandas把NA和n/a都当作空数据    \n",
    "print(df) # 打印所有列\n",
    "print(df['PLAYER'].isnull()) #判断某列数据是否为空 "
   ]
  }
 ],
 "metadata": {
  "kernelspec": {
   "display_name": "Python 3 (ipykernel)",
   "language": "python",
   "name": "python3"
  },
  "language_info": {
   "codemirror_mode": {
    "name": "ipython",
    "version": 3
   },
   "file_extension": ".py",
   "mimetype": "text/x-python",
   "name": "python",
   "nbconvert_exporter": "python",
   "pygments_lexer": "ipython3",
   "version": "3.10.12"
  }
 },
 "nbformat": 4,
 "nbformat_minor": 5
}
