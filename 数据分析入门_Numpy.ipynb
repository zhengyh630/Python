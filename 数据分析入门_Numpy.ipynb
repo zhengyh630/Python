{
 "cells": [
  {
   "cell_type": "markdown",
   "id": "d6114054",
   "metadata": {},
   "source": [
    "Python数据分析入门"
   ]
  },
  {
   "cell_type": "markdown",
   "id": "86ebd08a",
   "metadata": {},
   "source": [
    "1、创建一个数组"
   ]
  },
  {
   "cell_type": "code",
   "execution_count": 2,
   "id": "40ff478b",
   "metadata": {},
   "outputs": [
    {
     "data": {
      "text/plain": [
       "array([1, 2, 3, 4, 5, 6])"
      ]
     },
     "execution_count": 2,
     "metadata": {},
     "output_type": "execute_result"
    }
   ],
   "source": [
    "import numpy as np\n",
    "\n",
    "#通过np.array函数，从list中创建\n",
    "list1=[1,2,3,4,5,6]\n",
    "np.array(list1) #可以传入多个列表"
   ]
  },
  {
   "cell_type": "code",
   "execution_count": 4,
   "id": "10a23d06",
   "metadata": {},
   "outputs": [
    {
     "data": {
      "text/plain": [
       "array([[0, 0, 0],\n",
       "       [0, 0, 0]])"
      ]
     },
     "execution_count": 4,
     "metadata": {},
     "output_type": "execute_result"
    }
   ],
   "source": [
    "#通过np.zeros和np.ones函数，创建全0或全1数组，默认数据类型为float\n",
    "np.zeros(shape=(2,3),dtype=int)"
   ]
  },
  {
   "cell_type": "code",
   "execution_count": 6,
   "id": "e90fcb41",
   "metadata": {},
   "outputs": [
    {
     "data": {
      "text/plain": [
       "array([[0. , 0.5, 1. , 1.5, 2. ],\n",
       "       [2.5, 3. , 3.5, 4. , 4.5],\n",
       "       [5. , 5.5, 6. , 6.5, 7. ],\n",
       "       [7.5, 8. , 8.5, 9. , 9.5]])"
      ]
     },
     "execution_count": 6,
     "metadata": {},
     "output_type": "execute_result"
    }
   ],
   "source": [
    "#通过np.arange函数，创建arange参数指定的数组\n",
    "import numpy as np\n",
    "\n",
    "np.arange(0,10,0.5).reshape(4,5) #(起始值,结束值-1,步长).reshape(行数,列数），步长可以为float值"
   ]
  },
  {
   "cell_type": "code",
   "execution_count": 7,
   "id": "98374427",
   "metadata": {},
   "outputs": [
    {
     "data": {
      "text/plain": [
       "array([0.54688303, 0.44256043, 0.76983641, 0.13448036, 0.89693116,\n",
       "       0.78121554, 0.55314484, 0.37609256, 0.31052419, 0.8384218 ])"
      ]
     },
     "execution_count": 7,
     "metadata": {},
     "output_type": "execute_result"
    }
   ],
   "source": [
    "#通过np.random.rand(N)，创建一个具有N个元素的0<=X<1的数组\n",
    "np.random.rand(10)"
   ]
  },
  {
   "cell_type": "code",
   "execution_count": 8,
   "id": "d1e49e5a",
   "metadata": {},
   "outputs": [
    {
     "data": {
      "text/plain": [
       "8"
      ]
     },
     "execution_count": 8,
     "metadata": {},
     "output_type": "execute_result"
    }
   ],
   "source": [
    "#通过np.random.randint(N)，创建一个0－9之间任意整数\n",
    "np.random.randint(10)"
   ]
  },
  {
   "cell_type": "markdown",
   "id": "7b00d3ef",
   "metadata": {},
   "source": [
    "2、查看数组对象的属性 "
   ]
  },
  {
   "cell_type": "code",
   "execution_count": 9,
   "id": "58bce0f9",
   "metadata": {},
   "outputs": [],
   "source": [
    "#ndim：查看数组的维度（一维、二维…………）\n",
    "#shape：查看数组的大小（几行，几列）\n",
    "#size：查看数组元素的个数\n",
    "#dtype：查看数组元素的数据类型"
   ]
  },
  {
   "cell_type": "markdown",
   "id": "8de7f4b8",
   "metadata": {},
   "source": [
    "3、访问数组"
   ]
  },
  {
   "cell_type": "code",
   "execution_count": 19,
   "id": "738aed84",
   "metadata": {},
   "outputs": [
    {
     "data": {
      "text/plain": [
       "array([[1, 2],\n",
       "       [4, 5]])"
      ]
     },
     "execution_count": 19,
     "metadata": {},
     "output_type": "execute_result"
    }
   ],
   "source": [
    "#访问数组中的某个数据：数组名[行，列]\n",
    "#访问数组中的某连续区域的数据：数组名[开始行:结束列-1:步长,开始行:结束列-1:步长]\n",
    "a=np.array([[1,2,3]\n",
    "           ,[4,5,6]\n",
    "           ,[7,8,9]])\n",
    "#访问a数组中的5,6,8,9\n",
    "a[:2,:2]"
   ]
  },
  {
   "cell_type": "markdown",
   "id": "e3a9c5df",
   "metadata": {},
   "source": [
    "4、数组之间的运算"
   ]
  },
  {
   "cell_type": "code",
   "execution_count": 7,
   "id": "d105be00",
   "metadata": {},
   "outputs": [],
   "source": [
    "a=np.arange(1,10).reshape(3,3)\n",
    "b=np.arange(1,10).reshape(3,3)"
   ]
  },
  {
   "cell_type": "code",
   "execution_count": 8,
   "id": "3520e57f",
   "metadata": {},
   "outputs": [
    {
     "data": {
      "text/plain": [
       "array([[1, 2, 3],\n",
       "       [4, 5, 6],\n",
       "       [7, 8, 9]])"
      ]
     },
     "execution_count": 8,
     "metadata": {},
     "output_type": "execute_result"
    }
   ],
   "source": [
    "a"
   ]
  },
  {
   "cell_type": "code",
   "execution_count": 9,
   "id": "031b72a0",
   "metadata": {},
   "outputs": [
    {
     "data": {
      "text/plain": [
       "array([[1, 2, 3],\n",
       "       [4, 5, 6],\n",
       "       [7, 8, 9]])"
      ]
     },
     "execution_count": 9,
     "metadata": {},
     "output_type": "execute_result"
    }
   ],
   "source": [
    "b"
   ]
  },
  {
   "cell_type": "code",
   "execution_count": 12,
   "id": "77f3f9bb",
   "metadata": {},
   "outputs": [
    {
     "data": {
      "text/plain": [
       "array([[ 2,  4,  6],\n",
       "       [ 8, 10, 12],\n",
       "       [14, 16, 18]])"
      ]
     },
     "execution_count": 12,
     "metadata": {},
     "output_type": "execute_result"
    }
   ],
   "source": [
    "#数组之间的加、减运算：参加运算的数组的行与列的个数必须相同，它们的对应位置执行相应的操作。\n",
    "a+b"
   ]
  },
  {
   "cell_type": "code",
   "execution_count": 13,
   "id": "0935c68a",
   "metadata": {},
   "outputs": [
    {
     "data": {
      "text/plain": [
       "array([[ 1,  4,  9],\n",
       "       [16, 25, 36],\n",
       "       [49, 64, 81]])"
      ]
     },
     "execution_count": 13,
     "metadata": {},
     "output_type": "execute_result"
    }
   ],
   "source": [
    "#数组之间的相乘、相除操作了是它们的对应位置执行相应的操作，但在相除操作中，除数的数组元素可能为0，因此不建议用数组做相除操作。\n",
    "a*b"
   ]
  },
  {
   "cell_type": "markdown",
   "id": "f384aea5",
   "metadata": {},
   "source": [
    "5、矩阵之间运算"
   ]
  },
  {
   "cell_type": "code",
   "execution_count": 14,
   "id": "0135e3e5",
   "metadata": {},
   "outputs": [],
   "source": [
    "#矩阵是特殊的二维数组，但数组可以是一维或多维；\n",
    "#它没有加、减、乘、除等运算，它有专门的矩阵运算，如矩阵乘法（不是对应元素相乘）、转置、求逆等运算；\n",
    "#矩阵是数组的子集"
   ]
  },
  {
   "cell_type": "code",
   "execution_count": 15,
   "id": "b4e7e43b",
   "metadata": {},
   "outputs": [
    {
     "data": {
      "text/plain": [
       "matrix([[1, 2, 3],\n",
       "        [4, 5, 6],\n",
       "        [7, 8, 9]])"
      ]
     },
     "execution_count": 15,
     "metadata": {},
     "output_type": "execute_result"
    }
   ],
   "source": [
    "matrix_a=np.matrix(a)\n",
    "matrix_a"
   ]
  },
  {
   "cell_type": "code",
   "execution_count": 2,
   "id": "61270088",
   "metadata": {},
   "outputs": [],
   "source": [
    "import numpy as np\n",
    "#矩阵之间的乘法：a.dot(b)，矩阵a的列数必须一矩阵b的行数一至\n",
    "a=np.matrix(np.arange(12).reshape(3,4))\n",
    "b=np.matrix(np.arange(12).reshape(4,3))"
   ]
  },
  {
   "cell_type": "code",
   "execution_count": 3,
   "id": "4039a3e9",
   "metadata": {},
   "outputs": [
    {
     "data": {
      "text/plain": [
       "matrix([[ 0,  1,  2,  3],\n",
       "        [ 4,  5,  6,  7],\n",
       "        [ 8,  9, 10, 11]])"
      ]
     },
     "execution_count": 3,
     "metadata": {},
     "output_type": "execute_result"
    }
   ],
   "source": [
    "a"
   ]
  },
  {
   "cell_type": "code",
   "execution_count": 4,
   "id": "7480a6e9",
   "metadata": {},
   "outputs": [
    {
     "data": {
      "text/plain": [
       "matrix([[ 0,  1,  2],\n",
       "        [ 3,  4,  5],\n",
       "        [ 6,  7,  8],\n",
       "        [ 9, 10, 11]])"
      ]
     },
     "execution_count": 4,
     "metadata": {},
     "output_type": "execute_result"
    }
   ],
   "source": [
    "b"
   ]
  },
  {
   "cell_type": "code",
   "execution_count": 6,
   "id": "3b4069be",
   "metadata": {},
   "outputs": [
    {
     "data": {
      "text/plain": [
       "matrix([[ 42,  48,  54],\n",
       "        [114, 136, 158],\n",
       "        [186, 224, 262]])"
      ]
     },
     "execution_count": 6,
     "metadata": {},
     "output_type": "execute_result"
    }
   ],
   "source": [
    "a.dot(b)"
   ]
  },
  {
   "cell_type": "markdown",
   "id": "37730fe9",
   "metadata": {},
   "source": [
    "6、数组的合并"
   ]
  },
  {
   "cell_type": "code",
   "execution_count": 7,
   "id": "1ad8cb64",
   "metadata": {},
   "outputs": [],
   "source": [
    "#np.concatenate合并数组，参数axis＝0时为垂直方向合并，axis=1时为水平方向\n",
    "a=np.arange(6).reshape(2,3)\n",
    "b=np.arange(3).reshape(1,3)\n",
    "c=np.arange(10).reshape(2,5)"
   ]
  },
  {
   "cell_type": "code",
   "execution_count": 8,
   "id": "2bfbcde2",
   "metadata": {},
   "outputs": [
    {
     "data": {
      "text/plain": [
       "array([[0, 1, 2],\n",
       "       [3, 4, 5]])"
      ]
     },
     "execution_count": 8,
     "metadata": {},
     "output_type": "execute_result"
    }
   ],
   "source": [
    "a"
   ]
  },
  {
   "cell_type": "code",
   "execution_count": 9,
   "id": "315db959",
   "metadata": {},
   "outputs": [
    {
     "data": {
      "text/plain": [
       "array([[0, 1, 2]])"
      ]
     },
     "execution_count": 9,
     "metadata": {},
     "output_type": "execute_result"
    }
   ],
   "source": [
    "b"
   ]
  },
  {
   "cell_type": "code",
   "execution_count": 10,
   "id": "a085cc5a",
   "metadata": {},
   "outputs": [
    {
     "data": {
      "text/plain": [
       "array([[0, 1, 2, 3, 4],\n",
       "       [5, 6, 7, 8, 9]])"
      ]
     },
     "execution_count": 10,
     "metadata": {},
     "output_type": "execute_result"
    }
   ],
   "source": [
    "c"
   ]
  },
  {
   "cell_type": "code",
   "execution_count": 13,
   "id": "285b00ef",
   "metadata": {},
   "outputs": [
    {
     "data": {
      "text/plain": [
       "array([[0, 1, 2],\n",
       "       [3, 4, 5],\n",
       "       [0, 1, 2]])"
      ]
     },
     "execution_count": 13,
     "metadata": {},
     "output_type": "execute_result"
    }
   ],
   "source": [
    "np.concatenate([a,b],axis=0) #当axis=0时，合并的数组列数要相同；"
   ]
  },
  {
   "cell_type": "code",
   "execution_count": 14,
   "id": "89722fdb",
   "metadata": {},
   "outputs": [
    {
     "data": {
      "text/plain": [
       "array([[0, 1, 2, 0, 1, 2, 3, 4],\n",
       "       [3, 4, 5, 5, 6, 7, 8, 9]])"
      ]
     },
     "execution_count": 14,
     "metadata": {},
     "output_type": "execute_result"
    }
   ],
   "source": [
    "np.concatenate([a,c],axis=1) #当axis=1时，合并的数组行数要相同；"
   ]
  },
  {
   "cell_type": "markdown",
   "id": "d03b1a24",
   "metadata": {},
   "source": [
    "在只合并二维数组时，用vstack（行方向）和hstack（列方向）方法也可实现。"
   ]
  },
  {
   "cell_type": "code",
   "execution_count": 15,
   "id": "4cc95216",
   "metadata": {},
   "outputs": [
    {
     "data": {
      "text/plain": [
       "array([[0, 1, 2],\n",
       "       [3, 4, 5],\n",
       "       [0, 1, 2]])"
      ]
     },
     "execution_count": 15,
     "metadata": {},
     "output_type": "execute_result"
    }
   ],
   "source": [
    "np.vstack([a,b])"
   ]
  },
  {
   "cell_type": "code",
   "execution_count": 16,
   "id": "f5079a1e",
   "metadata": {},
   "outputs": [
    {
     "data": {
      "text/plain": [
       "array([[0, 1, 2, 0, 1, 2, 3, 4],\n",
       "       [3, 4, 5, 5, 6, 7, 8, 9]])"
      ]
     },
     "execution_count": 16,
     "metadata": {},
     "output_type": "execute_result"
    }
   ],
   "source": [
    "np.hstack([a,c])"
   ]
  },
  {
   "cell_type": "markdown",
   "id": "a1b5e790",
   "metadata": {},
   "source": [
    "7、数组的分割"
   ]
  },
  {
   "cell_type": "code",
   "execution_count": 24,
   "id": "e5aab17a",
   "metadata": {},
   "outputs": [],
   "source": [
    "#np.split()实现数组分割，它的参数indices_or_sections为整数（必须可以整除）或一维数组\n",
    "ary=np.arange(15)"
   ]
  },
  {
   "cell_type": "code",
   "execution_count": 29,
   "id": "187fc941",
   "metadata": {},
   "outputs": [
    {
     "data": {
      "text/plain": [
       "[array([0, 1, 2]),\n",
       " array([3, 4, 5]),\n",
       " array([6, 7, 8]),\n",
       " array([ 9, 10, 11]),\n",
       " array([12, 13, 14])]"
      ]
     },
     "execution_count": 29,
     "metadata": {},
     "output_type": "execute_result"
    }
   ],
   "source": [
    "np.split(ary,5)"
   ]
  },
  {
   "cell_type": "code",
   "execution_count": 30,
   "id": "80816b47",
   "metadata": {},
   "outputs": [
    {
     "data": {
      "text/plain": [
       "[array([0, 1]),\n",
       " array([2, 3, 4]),\n",
       " array([ 5,  6,  7,  8,  9, 10, 11, 12, 13, 14])]"
      ]
     },
     "execution_count": 30,
     "metadata": {},
     "output_type": "execute_result"
    }
   ],
   "source": [
    "np.split(ary,[2,5])"
   ]
  },
  {
   "cell_type": "markdown",
   "id": "65bbbfb2",
   "metadata": {},
   "source": [
    "8、Numpy的聚合运算"
   ]
  },
  {
   "cell_type": "code",
   "execution_count": 8,
   "id": "cbc73628",
   "metadata": {},
   "outputs": [],
   "source": [
    "#单一维度的聚合：sum、min、max\n",
    "\n",
    "a=np.arange(10)"
   ]
  },
  {
   "cell_type": "code",
   "execution_count": 9,
   "id": "8ae4214e",
   "metadata": {},
   "outputs": [
    {
     "data": {
      "text/plain": [
       "array([0, 1, 2, 3, 4, 5, 6, 7, 8, 9])"
      ]
     },
     "execution_count": 9,
     "metadata": {},
     "output_type": "execute_result"
    }
   ],
   "source": [
    "a"
   ]
  },
  {
   "cell_type": "code",
   "execution_count": 10,
   "id": "99526666",
   "metadata": {},
   "outputs": [
    {
     "data": {
      "text/plain": [
       "45"
      ]
     },
     "execution_count": 10,
     "metadata": {},
     "output_type": "execute_result"
    }
   ],
   "source": [
    "np.sum(a)"
   ]
  },
  {
   "cell_type": "code",
   "execution_count": 11,
   "id": "f2e81a55",
   "metadata": {},
   "outputs": [
    {
     "data": {
      "text/plain": [
       "45"
      ]
     },
     "execution_count": 11,
     "metadata": {},
     "output_type": "execute_result"
    }
   ],
   "source": [
    "a.sum()"
   ]
  },
  {
   "cell_type": "code",
   "execution_count": 12,
   "id": "cc8a0aa8",
   "metadata": {},
   "outputs": [
    {
     "data": {
      "text/plain": [
       "0"
      ]
     },
     "execution_count": 12,
     "metadata": {},
     "output_type": "execute_result"
    }
   ],
   "source": [
    "np.min(a)"
   ]
  },
  {
   "cell_type": "code",
   "execution_count": 13,
   "id": "ec950cdf",
   "metadata": {},
   "outputs": [
    {
     "data": {
      "text/plain": [
       "0"
      ]
     },
     "execution_count": 13,
     "metadata": {},
     "output_type": "execute_result"
    }
   ],
   "source": [
    "a.min()"
   ]
  },
  {
   "cell_type": "code",
   "execution_count": 14,
   "id": "1f9bb67e",
   "metadata": {},
   "outputs": [
    {
     "data": {
      "text/plain": [
       "9"
      ]
     },
     "execution_count": 14,
     "metadata": {},
     "output_type": "execute_result"
    }
   ],
   "source": [
    "np.max(a)"
   ]
  },
  {
   "cell_type": "code",
   "execution_count": 15,
   "id": "db59eb58",
   "metadata": {},
   "outputs": [
    {
     "data": {
      "text/plain": [
       "9"
      ]
     },
     "execution_count": 15,
     "metadata": {},
     "output_type": "execute_result"
    }
   ],
   "source": [
    "a.max()"
   ]
  },
  {
   "cell_type": "code",
   "execution_count": 21,
   "id": "29260d87",
   "metadata": {},
   "outputs": [],
   "source": [
    "#多维度聚合，一行一行或一列一列地做相应地操作\n",
    "ary=np.arange(16).reshape(4,4)"
   ]
  },
  {
   "cell_type": "code",
   "execution_count": 22,
   "id": "b96a74b8",
   "metadata": {},
   "outputs": [
    {
     "data": {
      "text/plain": [
       "array([[ 0,  1,  2,  3],\n",
       "       [ 4,  5,  6,  7],\n",
       "       [ 8,  9, 10, 11],\n",
       "       [12, 13, 14, 15]])"
      ]
     },
     "execution_count": 22,
     "metadata": {},
     "output_type": "execute_result"
    }
   ],
   "source": [
    "ary"
   ]
  },
  {
   "cell_type": "code",
   "execution_count": 25,
   "id": "2b9884c2",
   "metadata": {},
   "outputs": [
    {
     "data": {
      "text/plain": [
       "array([24, 28, 32, 36])"
      ]
     },
     "execution_count": 25,
     "metadata": {},
     "output_type": "execute_result"
    }
   ],
   "source": [
    "np.sum(ary,axis=0) #axis=0时，则沿着横轴方向（看纵轴）"
   ]
  },
  {
   "cell_type": "code",
   "execution_count": 26,
   "id": "a536f070",
   "metadata": {},
   "outputs": [
    {
     "data": {
      "text/plain": [
       "array([ 6, 22, 38, 54])"
      ]
     },
     "execution_count": 26,
     "metadata": {},
     "output_type": "execute_result"
    }
   ],
   "source": [
    "np.sum(ary,axis=1) #axis=1时，则沿着纵轴方向（看横轴）"
   ]
  },
  {
   "cell_type": "code",
   "execution_count": 28,
   "id": "4f00a3c3",
   "metadata": {},
   "outputs": [
    {
     "data": {
      "text/plain": [
       "array([0, 1, 2, 3])"
      ]
     },
     "execution_count": 28,
     "metadata": {},
     "output_type": "execute_result"
    }
   ],
   "source": [
    "np.min(ary,axis=0)"
   ]
  },
  {
   "cell_type": "code",
   "execution_count": 29,
   "id": "2c3a645a",
   "metadata": {},
   "outputs": [
    {
     "data": {
      "text/plain": [
       "array([ 0,  4,  8, 12])"
      ]
     },
     "execution_count": 29,
     "metadata": {},
     "output_type": "execute_result"
    }
   ],
   "source": [
    "np.min(ary,axis=1)"
   ]
  },
  {
   "cell_type": "code",
   "execution_count": 30,
   "id": "900d7e73",
   "metadata": {},
   "outputs": [],
   "source": [
    "#max、mean(均值)"
   ]
  },
  {
   "cell_type": "markdown",
   "id": "077e6f3e",
   "metadata": {},
   "source": [
    "Numpy的其它操作"
   ]
  },
  {
   "cell_type": "code",
   "execution_count": 32,
   "id": "d7afd4c9",
   "metadata": {},
   "outputs": [],
   "source": [
    "# argmin／argmax返回数组最小值／最大值的index\n",
    "\n",
    "a=np.random.random(20)"
   ]
  },
  {
   "cell_type": "code",
   "execution_count": 33,
   "id": "70afdc63",
   "metadata": {},
   "outputs": [
    {
     "data": {
      "text/plain": [
       "array([0.00986201, 0.85856264, 0.4466069 , 0.54954499, 0.66196761,\n",
       "       0.62035462, 0.02374403, 0.60184331, 0.00756412, 0.82644067,\n",
       "       0.07731234, 0.90073929, 0.09398673, 0.91223261, 0.16936361,\n",
       "       0.04951422, 0.33931149, 0.72876231, 0.71486854, 0.97866573])"
      ]
     },
     "execution_count": 33,
     "metadata": {},
     "output_type": "execute_result"
    }
   ],
   "source": [
    "a"
   ]
  },
  {
   "cell_type": "code",
   "execution_count": 34,
   "id": "07c1af0f",
   "metadata": {},
   "outputs": [
    {
     "data": {
      "text/plain": [
       "8"
      ]
     },
     "execution_count": 34,
     "metadata": {},
     "output_type": "execute_result"
    }
   ],
   "source": [
    "np.argmin(a)"
   ]
  },
  {
   "cell_type": "code",
   "execution_count": 35,
   "id": "51535184",
   "metadata": {},
   "outputs": [
    {
     "data": {
      "text/plain": [
       "0.007564122099009696"
      ]
     },
     "execution_count": 35,
     "metadata": {},
     "output_type": "execute_result"
    }
   ],
   "source": [
    "np.min(a)"
   ]
  },
  {
   "cell_type": "code",
   "execution_count": 36,
   "id": "504bbd08",
   "metadata": {},
   "outputs": [
    {
     "data": {
      "text/plain": [
       "array([[ 0,  1,  2,  3,  4],\n",
       "       [ 5,  6,  7,  8,  9],\n",
       "       [10, 11, 12, 13, 14],\n",
       "       [15, 16, 17, 18, 19]])"
      ]
     },
     "execution_count": 36,
     "metadata": {},
     "output_type": "execute_result"
    }
   ],
   "source": [
    "# shuffle打乱数组排序\n",
    "\n",
    "a=np.arange(20).reshape(4,5)\n",
    "a"
   ]
  },
  {
   "cell_type": "code",
   "execution_count": 40,
   "id": "5c08ad2d",
   "metadata": {},
   "outputs": [
    {
     "data": {
      "text/plain": [
       "array([[15, 16, 17, 18, 19],\n",
       "       [ 0,  1,  2,  3,  4],\n",
       "       [ 5,  6,  7,  8,  9],\n",
       "       [10, 11, 12, 13, 14]])"
      ]
     },
     "execution_count": 40,
     "metadata": {},
     "output_type": "execute_result"
    }
   ],
   "source": [
    "np.random.shuffle(a)\n",
    "a"
   ]
  },
  {
   "cell_type": "code",
   "execution_count": 42,
   "id": "55b8abcb",
   "metadata": {},
   "outputs": [
    {
     "data": {
      "text/plain": [
       "array([[15, 16, 17, 18, 19],\n",
       "       [ 0,  1,  2,  3,  4],\n",
       "       [ 5,  6,  7,  8,  9],\n",
       "       [10, 11, 12, 13, 14]])"
      ]
     },
     "execution_count": 42,
     "metadata": {},
     "output_type": "execute_result"
    }
   ],
   "source": [
    "np.sort(a,axis=1)"
   ]
  },
  {
   "cell_type": "code",
   "execution_count": 48,
   "id": "502b82b4",
   "metadata": {},
   "outputs": [
    {
     "data": {
      "text/plain": [
       "array([16, 18,  0,  2,  4,  6,  8, 10, 12, 14])"
      ]
     },
     "execution_count": 48,
     "metadata": {},
     "output_type": "execute_result"
    }
   ],
   "source": [
    "# 数组的筛选\n",
    "\n",
    "a[a%2==0]"
   ]
  },
  {
   "cell_type": "code",
   "execution_count": 46,
   "id": "669e6065",
   "metadata": {},
   "outputs": [
    {
     "data": {
      "text/plain": [
       "array([3, 4, 5, 6, 7, 8, 9])"
      ]
     },
     "execution_count": 46,
     "metadata": {},
     "output_type": "execute_result"
    }
   ],
   "source": [
    "a[(a>=3) & (a<10)]"
   ]
  },
  {
   "cell_type": "markdown",
   "id": "75bba457",
   "metadata": {},
   "source": [
    "# 练习"
   ]
  },
  {
   "cell_type": "code",
   "execution_count": 6,
   "id": "ee2d8b17",
   "metadata": {},
   "outputs": [
    {
     "name": "stdout",
     "output_type": "stream",
     "text": [
      "4.57 µs ± 147 ns per loop (mean ± std. dev. of 7 runs, 100000 loops each)\n",
      "68.7 µs ± 1.62 µs per loop (mean ± std. dev. of 7 runs, 10000 loops each)\n"
     ]
    }
   ],
   "source": [
    "import numpy as np\n",
    "\n",
    "def numpy_sum(n):\n",
    "    a=np.arange(n)**2\n",
    "    b=np.arange(n)**3\n",
    "    return a+b\n",
    "\n",
    "def python_num(n):\n",
    "    a=[i**2 for i in range(n)]\n",
    "    b=[i**3 for i in range(n)]\n",
    "    ab_sum=[]\n",
    "    for i in range(n):\n",
    "        ab_sum.append(a[i]+b[i])\n",
    "    return ab_sum\n",
    "\n",
    "\n",
    "%timeit numpy_sum(100)\n",
    "%timeit python_num(100)"
   ]
  },
  {
   "cell_type": "code",
   "execution_count": 14,
   "id": "50acac69",
   "metadata": {},
   "outputs": [
    {
     "data": {
      "text/plain": [
       "array([[3.5, 4.5, 5.5],\n",
       "       [6.5, 7.5, 8.5]])"
      ]
     },
     "execution_count": 14,
     "metadata": {},
     "output_type": "execute_result"
    }
   ],
   "source": [
    "np.array([[1,2,3],[4,5,6]],ndmin=2)+2.5 #np.array()的参数必须是一个可迭代对象"
   ]
  },
  {
   "cell_type": "code",
   "execution_count": 3,
   "id": "eace50f2",
   "metadata": {},
   "outputs": [
    {
     "data": {
      "text/plain": [
       "67"
      ]
     },
     "execution_count": 3,
     "metadata": {},
     "output_type": "execute_result"
    }
   ],
   "source": [
    "import numpy as np\n",
    "\n",
    "a=np.arange(0,201.0,3.0)\n",
    "len(a)"
   ]
  },
  {
   "cell_type": "code",
   "execution_count": 5,
   "id": "b8b40fc2",
   "metadata": {},
   "outputs": [
    {
     "data": {
      "text/plain": [
       "array([10. , 12.5, 15. , 17.5, 20. ])"
      ]
     },
     "execution_count": 5,
     "metadata": {},
     "output_type": "execute_result"
    }
   ],
   "source": [
    "np.linspace(start, stop, num=50, endpoint=True, retstep=False, dtype=None) #建立等差数列\n",
    "\n",
    "# start: 序列起始值\n",
    "# stop: 序列终止值, 当endpoint=True时,该值包含于数列中\n",
    "# num: 样本数量, 默认为50\n",
    "# endpoint: 默认为True时,数列包含stop值, 否则不包含\n",
    "# retstep: 为True时, 生成的数组会显示间距, 默认不显示\n",
    "# dtype: ndarray的数据类型"
   ]
  },
  {
   "cell_type": "code",
   "execution_count": null,
   "id": "f9cfbde8",
   "metadata": {},
   "outputs": [],
   "source": [
    "np.logspace(start, stop, num=50, endpoint=True, base=D, dtype=None) #建立等比数列\n",
    "\n",
    "# start: 序列起始值, 生成数组的起始值为D的start次方\n",
    "# stop: 序列终止值, 当endpoint=True时,该值包含于数列中, 生成数组的起始值为D的stop次方\n",
    "# num: 样本数量, 默认为50\n",
    "# endpoint: 默认为True时,数列包含stop值, 否则不包含\n",
    "# base: 对数log的底数, 默认为10\n",
    "# dtype: ndarray的数据类型"
   ]
  },
  {
   "cell_type": "code",
   "execution_count": 21,
   "id": "98788c52",
   "metadata": {},
   "outputs": [
    {
     "name": "stdout",
     "output_type": "stream",
     "text": [
      "Day 1: 0.01 yuan\n",
      "Day 2: 0.02 yuan\n",
      "Day 3: 0.04 yuan\n",
      "Day 4: 0.08 yuan\n",
      "Day 5: 0.16 yuan\n",
      "Day 6: 0.32 yuan\n",
      "Day 7: 0.64 yuan\n",
      "Day 8: 1.28 yuan\n",
      "Day 9: 2.56 yuan\n",
      "Day 10: 5.12 yuan\n",
      "Day 11: 10.24 yuan\n",
      "Day 12: 20.48 yuan\n",
      "Day 13: 40.96 yuan\n",
      "Day 14: 81.92 yuan\n",
      "Day 15: 163.84 yuan\n",
      "Day 16: 327.68 yuan\n",
      "Day 17: 655.36 yuan\n",
      "Day 18: 1310.72 yuan\n",
      "Day 19: 2621.44 yuan\n",
      "Day 20: 5242.88 yuan\n",
      "Day 21: 10485.76 yuan\n",
      "Day 22: 20971.52 yuan\n",
      "Day 23: 41943.04 yuan\n",
      "Day 24: 83886.08 yuan\n",
      "Day 25: 167772.16 yuan\n",
      "Day 26: 335544.32 yuan\n",
      "Day 27: 671088.64 yuan\n",
      "Day 28: 1342177.28 yuan\n",
      "Day 29: 2684354.56 yuan\n",
      "Day 30: 5368709.12 yuan\n",
      "Total payment after 30 days: 10737418.23 yuan\n"
     ]
    }
   ],
   "source": [
    "day=30\n",
    "day_payments=np.logspace(0,29,i,base=2)*0.01\n",
    "total_payments=np.sum(day_payments)\n",
    "\n",
    "for day, payment in enumerate(day_payments, start=1):  \n",
    "    print(f\"Day {day}: {payment:.2f} yuan\")  \n",
    "\n",
    "print(f\"Total payment after {day} days: {total_payments:.2f} yuan\")  "
   ]
  },
  {
   "cell_type": "raw",
   "id": "daab4a8a",
   "metadata": {},
   "source": [
    "# np.logspace(0,9,10,base=2)\n",
    "# print(np.logspace(1,5,3,base=2))\n",
    "# print(np.logspace(1,2,10))\n"
   ]
  }
 ],
 "metadata": {
  "kernelspec": {
   "display_name": "Python 3 (ipykernel)",
   "language": "python",
   "name": "python3"
  },
  "language_info": {
   "codemirror_mode": {
    "name": "ipython",
    "version": 3
   },
   "file_extension": ".py",
   "mimetype": "text/x-python",
   "name": "python",
   "nbconvert_exporter": "python",
   "pygments_lexer": "ipython3",
   "version": "3.10.12"
  }
 },
 "nbformat": 4,
 "nbformat_minor": 5
}
