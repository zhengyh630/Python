{
 "cells": [
  {
   "cell_type": "markdown",
   "id": "d6114054",
   "metadata": {},
   "source": [
    "Python数据分析入门"
   ]
  },
  {
   "cell_type": "markdown",
   "id": "86ebd08a",
   "metadata": {},
   "source": [
    "1、创建一个数组"
   ]
  },
  {
   "cell_type": "code",
   "execution_count": 1,
   "id": "40ff478b",
   "metadata": {},
   "outputs": [
    {
     "data": {
      "text/plain": [
       "array([1, 2, 3, 4, 5, 6])"
      ]
     },
     "execution_count": 1,
     "metadata": {},
     "output_type": "execute_result"
    }
   ],
   "source": [
    "import numpy as np\n",
    "\n",
    "#通过np.array函数，从list中创建\n",
    "list1=[1,2,3,4,5,6]\n",
    "np.array(list1) #可以传入多个列表"
   ]
  },
  {
   "cell_type": "code",
   "execution_count": 10,
   "id": "10a23d06",
   "metadata": {},
   "outputs": [
    {
     "name": "stdout",
     "output_type": "stream",
     "text": [
      "[0. 0. 0. 0. 0.]\n",
      "\n",
      "\n",
      "[[[0 0 0 0]\n",
      "  [0 0 0 0]\n",
      "  [0 0 0 0]]\n",
      "\n",
      " [[0 0 0 0]\n",
      "  [0 0 0 0]\n",
      "  [0 0 0 0]]]\n"
     ]
    }
   ],
   "source": [
    "#通过np.zeros和np.ones函数，创建全0或全1数组，默认数据类型为float\n",
    "print(np.zeros(5))\n",
    "print(\"\\n\")\n",
    "print(np.zeros((2,3,4),dtype=int)) # \"shape=\"可以省略, 参数(2,3,4)为2块3行4列"
   ]
  },
  {
   "cell_type": "code",
   "execution_count": 6,
   "id": "ff2315c5",
   "metadata": {},
   "outputs": [
    {
     "data": {
      "text/plain": [
       "array([[0, 0, 0],\n",
       "       [0, 0, 0]])"
      ]
     },
     "execution_count": 6,
     "metadata": {},
     "output_type": "execute_result"
    }
   ],
   "source": [
    "# zero_like/ones_like返回具有与给定数组相同的开关和类型的全零/全1数组\n",
    "ar1=np.array([[1,2,3],[4,5,6]])\n",
    "np.zeros_like(ar1)"
   ]
  },
  {
   "cell_type": "code",
   "execution_count": 6,
   "id": "e90fcb41",
   "metadata": {},
   "outputs": [
    {
     "data": {
      "text/plain": [
       "array([[0. , 0.5, 1. , 1.5, 2. ],\n",
       "       [2.5, 3. , 3.5, 4. , 4.5],\n",
       "       [5. , 5.5, 6. , 6.5, 7. ],\n",
       "       [7.5, 8. , 8.5, 9. , 9.5]])"
      ]
     },
     "execution_count": 6,
     "metadata": {},
     "output_type": "execute_result"
    }
   ],
   "source": [
    "#通过np.arange函数，创建arange参数指定的数组\n",
    "import numpy as np\n",
    "\n",
    "np.arange(0,10,0.5).reshape(4,5) #(起始值,结束值-1,步长).reshape(行数,列数），步长可以为float值"
   ]
  },
  {
   "cell_type": "code",
   "execution_count": 7,
   "id": "98374427",
   "metadata": {},
   "outputs": [
    {
     "data": {
      "text/plain": [
       "array([0.54688303, 0.44256043, 0.76983641, 0.13448036, 0.89693116,\n",
       "       0.78121554, 0.55314484, 0.37609256, 0.31052419, 0.8384218 ])"
      ]
     },
     "execution_count": 7,
     "metadata": {},
     "output_type": "execute_result"
    }
   ],
   "source": [
    "#通过np.random.rand(N)，创建一个具有N个元素的0<=X<1的数组\n",
    "np.random.rand(10)"
   ]
  },
  {
   "cell_type": "code",
   "execution_count": 8,
   "id": "d1e49e5a",
   "metadata": {},
   "outputs": [
    {
     "data": {
      "text/plain": [
       "8"
      ]
     },
     "execution_count": 8,
     "metadata": {},
     "output_type": "execute_result"
    }
   ],
   "source": [
    "#通过np.random.randint(N)，创建一个0－9之间任意整数\n",
    "np.random.randint(10)"
   ]
  },
  {
   "cell_type": "markdown",
   "id": "7b00d3ef",
   "metadata": {},
   "source": [
    "2、查看数组对象的属性 "
   ]
  },
  {
   "cell_type": "code",
   "execution_count": 16,
   "id": "58bce0f9",
   "metadata": {},
   "outputs": [
    {
     "name": "stdout",
     "output_type": "stream",
     "text": [
      "数组个数为24\n",
      "数组行列为(2, 3, 4)\n",
      "数组数据类型为int64\n"
     ]
    }
   ],
   "source": [
    "#ndim：查看数组的维度（一维、二维…………）\n",
    "#shape：查看数组的大小（几行，几列）, 返回值为元组类型\n",
    "#size：查看数组元素的个数\n",
    "#dtype：查看数组元素的数据类型\n",
    "ar2=np.zeros((2,3,4),dtype=int)\n",
    "print(f\"数组个数为{ar2.size}\")\n",
    "print(f\"数组行列为{ar2.shape}\")\n",
    "print(f\"数组数据类型为{ar2.dtype}\")"
   ]
  },
  {
   "cell_type": "code",
   "execution_count": 22,
   "id": "3e215b56",
   "metadata": {},
   "outputs": [
    {
     "name": "stdout",
     "output_type": "stream",
     "text": [
      "[[ 0  1  2  3  4]\n",
      " [ 5  6  7  8  9]\n",
      " [10 11 12 13 14]\n",
      " [15 16 17 18 19]]\n"
     ]
    }
   ],
   "source": [
    "ar3=np.arange(20)\n",
    "print(ar3.reshape((4,5))) # reshape可用于调整数组的维度, 调整后的数组元素要和之前的相同"
   ]
  },
  {
   "cell_type": "code",
   "execution_count": 26,
   "id": "9701c26c",
   "metadata": {},
   "outputs": [
    {
     "name": "stdout",
     "output_type": "stream",
     "text": [
      "[[ 0  1  2  3  4  5]\n",
      " [ 6  7  8  9 10 11]\n",
      " [12 13 14 15 16 17]\n",
      " [18 19  0  1  2  3]\n",
      " [ 4  5  6  7  8  9]]\n"
     ]
    }
   ],
   "source": [
    "ar4=np.arange(20)\n",
    "print(np.resize(ar4,(5,6))) # resize可以调整的数组元素个数大于原数组, 多出的数据用原数组副本填充"
   ]
  },
  {
   "cell_type": "code",
   "execution_count": 5,
   "id": "b8b40fc2",
   "metadata": {},
   "outputs": [
    {
     "data": {
      "text/plain": [
       "array([10. , 12.5, 15. , 17.5, 20. ])"
      ]
     },
     "execution_count": 5,
     "metadata": {},
     "output_type": "execute_result"
    }
   ],
   "source": [
    "np.linspace(start, stop, num=50, endpoint=True, retstep=False, dtype=None) #建立等差数列\n",
    "\n",
    "# start: 序列起始值\n",
    "# stop: 序列终止值, 当endpoint=True时,该值包含于数列中\n",
    "# num: 样本数量, 默认为50\n",
    "# endpoint: 默认为True时,数列包含stop值, 否则不包含\n",
    "# retstep: 为True时, 生成的数组会显示间距, 默认不显示\n",
    "# dtype: ndarray的数据类型"
   ]
  },
  {
   "cell_type": "code",
   "execution_count": null,
   "id": "f9cfbde8",
   "metadata": {},
   "outputs": [],
   "source": [
    "np.logspace(start, stop, num=50, endpoint=True, base=D, dtype=None) #建立等比数列\n",
    "\n",
    "# start: 序列起始值, 生成数组的起始值为D的start次方\n",
    "# stop: 序列终止值, 当endpoint=True时,该值包含于数列中, 生成数组的起始值为D的stop次方\n",
    "# num: 样本数量, 默认为50\n",
    "# endpoint: 默认为True时,数列包含stop值, 否则不包含\n",
    "# base: 对数log的底数, 默认为10\n",
    "# dtype: ndarray的数据类型"
   ]
  },
  {
   "cell_type": "markdown",
   "id": "8de7f4b8",
   "metadata": {},
   "source": [
    "3、访问数组"
   ]
  },
  {
   "cell_type": "code",
   "execution_count": 19,
   "id": "738aed84",
   "metadata": {},
   "outputs": [
    {
     "data": {
      "text/plain": [
       "array([[1, 2],\n",
       "       [4, 5]])"
      ]
     },
     "execution_count": 19,
     "metadata": {},
     "output_type": "execute_result"
    }
   ],
   "source": [
    "#访问数组中的某个数据：数组名[行，列]\n",
    "#访问数组中的某连续区域的数据：数组名[开始行:结束列-1:步长,开始行:结束列-1:步长]\n",
    "a=np.array([[1,2,3]\n",
    "           ,[4,5,6]\n",
    "           ,[7,8,9]])\n",
    "#访问a数组中的5,6,8,9\n",
    "a[:2,:2]"
   ]
  },
  {
   "cell_type": "markdown",
   "id": "e3a9c5df",
   "metadata": {},
   "source": [
    "4、数组之间的运算"
   ]
  },
  {
   "cell_type": "code",
   "execution_count": 7,
   "id": "d105be00",
   "metadata": {},
   "outputs": [],
   "source": [
    "a=np.arange(1,10).reshape(3,3)\n",
    "b=np.arange(1,10).reshape(3,3)"
   ]
  },
  {
   "cell_type": "code",
   "execution_count": 8,
   "id": "3520e57f",
   "metadata": {},
   "outputs": [
    {
     "data": {
      "text/plain": [
       "array([[1, 2, 3],\n",
       "       [4, 5, 6],\n",
       "       [7, 8, 9]])"
      ]
     },
     "execution_count": 8,
     "metadata": {},
     "output_type": "execute_result"
    }
   ],
   "source": [
    "a"
   ]
  },
  {
   "cell_type": "code",
   "execution_count": 9,
   "id": "031b72a0",
   "metadata": {},
   "outputs": [
    {
     "data": {
      "text/plain": [
       "array([[1, 2, 3],\n",
       "       [4, 5, 6],\n",
       "       [7, 8, 9]])"
      ]
     },
     "execution_count": 9,
     "metadata": {},
     "output_type": "execute_result"
    }
   ],
   "source": [
    "b"
   ]
  },
  {
   "cell_type": "code",
   "execution_count": 12,
   "id": "77f3f9bb",
   "metadata": {},
   "outputs": [
    {
     "data": {
      "text/plain": [
       "array([[ 2,  4,  6],\n",
       "       [ 8, 10, 12],\n",
       "       [14, 16, 18]])"
      ]
     },
     "execution_count": 12,
     "metadata": {},
     "output_type": "execute_result"
    }
   ],
   "source": [
    "#数组之间的加、减运算：参加运算的数组的行与列的个数必须相同，它们的对应位置执行相应的操作。\n",
    "a+b"
   ]
  },
  {
   "cell_type": "code",
   "execution_count": 13,
   "id": "0935c68a",
   "metadata": {},
   "outputs": [
    {
     "data": {
      "text/plain": [
       "array([[ 1,  4,  9],\n",
       "       [16, 25, 36],\n",
       "       [49, 64, 81]])"
      ]
     },
     "execution_count": 13,
     "metadata": {},
     "output_type": "execute_result"
    }
   ],
   "source": [
    "#数组之间的相乘、相除操作了是它们的对应位置执行相应的操作，但在相除操作中，除数的数组元素可能为0，因此不建议用数组做相除操作。\n",
    "a*b"
   ]
  },
  {
   "cell_type": "markdown",
   "id": "f384aea5",
   "metadata": {},
   "source": [
    "5、矩阵之间运算"
   ]
  },
  {
   "cell_type": "code",
   "execution_count": 14,
   "id": "0135e3e5",
   "metadata": {},
   "outputs": [],
   "source": [
    "#矩阵是特殊的二维数组，但数组可以是一维或多维；\n",
    "#它没有加、减、乘、除等运算，它有专门的矩阵运算，如矩阵乘法（不是对应元素相乘）、转置、求逆等运算；\n",
    "#矩阵是数组的子集"
   ]
  },
  {
   "cell_type": "code",
   "execution_count": 15,
   "id": "b4e7e43b",
   "metadata": {},
   "outputs": [
    {
     "data": {
      "text/plain": [
       "matrix([[1, 2, 3],\n",
       "        [4, 5, 6],\n",
       "        [7, 8, 9]])"
      ]
     },
     "execution_count": 15,
     "metadata": {},
     "output_type": "execute_result"
    }
   ],
   "source": [
    "matrix_a=np.matrix(a)\n",
    "matrix_a"
   ]
  },
  {
   "cell_type": "code",
   "execution_count": 2,
   "id": "61270088",
   "metadata": {},
   "outputs": [],
   "source": [
    "import numpy as np\n",
    "#矩阵之间的乘法：a.dot(b)，矩阵a的列数必须一矩阵b的行数一至\n",
    "a=np.matrix(np.arange(12).reshape(3,4))\n",
    "b=np.matrix(np.arange(12).reshape(4,3))"
   ]
  },
  {
   "cell_type": "code",
   "execution_count": 3,
   "id": "4039a3e9",
   "metadata": {},
   "outputs": [
    {
     "data": {
      "text/plain": [
       "matrix([[ 0,  1,  2,  3],\n",
       "        [ 4,  5,  6,  7],\n",
       "        [ 8,  9, 10, 11]])"
      ]
     },
     "execution_count": 3,
     "metadata": {},
     "output_type": "execute_result"
    }
   ],
   "source": [
    "a"
   ]
  },
  {
   "cell_type": "code",
   "execution_count": 4,
   "id": "7480a6e9",
   "metadata": {},
   "outputs": [
    {
     "data": {
      "text/plain": [
       "matrix([[ 0,  1,  2],\n",
       "        [ 3,  4,  5],\n",
       "        [ 6,  7,  8],\n",
       "        [ 9, 10, 11]])"
      ]
     },
     "execution_count": 4,
     "metadata": {},
     "output_type": "execute_result"
    }
   ],
   "source": [
    "b"
   ]
  },
  {
   "cell_type": "code",
   "execution_count": 6,
   "id": "3b4069be",
   "metadata": {},
   "outputs": [
    {
     "data": {
      "text/plain": [
       "matrix([[ 42,  48,  54],\n",
       "        [114, 136, 158],\n",
       "        [186, 224, 262]])"
      ]
     },
     "execution_count": 6,
     "metadata": {},
     "output_type": "execute_result"
    }
   ],
   "source": [
    "a.dot(b)"
   ]
  },
  {
   "cell_type": "markdown",
   "id": "37730fe9",
   "metadata": {},
   "source": [
    "6、数组的合并"
   ]
  },
  {
   "cell_type": "code",
   "execution_count": 7,
   "id": "1ad8cb64",
   "metadata": {},
   "outputs": [],
   "source": [
    "#np.concatenate合并数组，参数axis＝0时为垂直方向合并，axis=1时为水平方向\n",
    "a=np.arange(6).reshape(2,3)\n",
    "b=np.arange(3).reshape(1,3)\n",
    "c=np.arange(10).reshape(2,5)"
   ]
  },
  {
   "cell_type": "code",
   "execution_count": 8,
   "id": "2bfbcde2",
   "metadata": {},
   "outputs": [
    {
     "data": {
      "text/plain": [
       "array([[0, 1, 2],\n",
       "       [3, 4, 5]])"
      ]
     },
     "execution_count": 8,
     "metadata": {},
     "output_type": "execute_result"
    }
   ],
   "source": [
    "a"
   ]
  },
  {
   "cell_type": "code",
   "execution_count": 9,
   "id": "315db959",
   "metadata": {},
   "outputs": [
    {
     "data": {
      "text/plain": [
       "array([[0, 1, 2]])"
      ]
     },
     "execution_count": 9,
     "metadata": {},
     "output_type": "execute_result"
    }
   ],
   "source": [
    "b"
   ]
  },
  {
   "cell_type": "code",
   "execution_count": 10,
   "id": "a085cc5a",
   "metadata": {},
   "outputs": [
    {
     "data": {
      "text/plain": [
       "array([[0, 1, 2, 3, 4],\n",
       "       [5, 6, 7, 8, 9]])"
      ]
     },
     "execution_count": 10,
     "metadata": {},
     "output_type": "execute_result"
    }
   ],
   "source": [
    "c"
   ]
  },
  {
   "cell_type": "code",
   "execution_count": 13,
   "id": "285b00ef",
   "metadata": {},
   "outputs": [
    {
     "data": {
      "text/plain": [
       "array([[0, 1, 2],\n",
       "       [3, 4, 5],\n",
       "       [0, 1, 2]])"
      ]
     },
     "execution_count": 13,
     "metadata": {},
     "output_type": "execute_result"
    }
   ],
   "source": [
    "np.concatenate([a,b],axis=0) #当axis=0时，合并的数组列数要相同；"
   ]
  },
  {
   "cell_type": "code",
   "execution_count": 14,
   "id": "89722fdb",
   "metadata": {},
   "outputs": [
    {
     "data": {
      "text/plain": [
       "array([[0, 1, 2, 0, 1, 2, 3, 4],\n",
       "       [3, 4, 5, 5, 6, 7, 8, 9]])"
      ]
     },
     "execution_count": 14,
     "metadata": {},
     "output_type": "execute_result"
    }
   ],
   "source": [
    "np.concatenate([a,c],axis=1) #当axis=1时，合并的数组行数要相同；"
   ]
  },
  {
   "cell_type": "markdown",
   "id": "d03b1a24",
   "metadata": {},
   "source": [
    "在只合并二维数组时，用vstack（行方向）和hstack（列方向）方法也可实现。"
   ]
  },
  {
   "cell_type": "code",
   "execution_count": 15,
   "id": "4cc95216",
   "metadata": {},
   "outputs": [
    {
     "data": {
      "text/plain": [
       "array([[0, 1, 2],\n",
       "       [3, 4, 5],\n",
       "       [0, 1, 2]])"
      ]
     },
     "execution_count": 15,
     "metadata": {},
     "output_type": "execute_result"
    }
   ],
   "source": [
    "np.vstack([a,b])"
   ]
  },
  {
   "cell_type": "code",
   "execution_count": 16,
   "id": "f5079a1e",
   "metadata": {},
   "outputs": [
    {
     "data": {
      "text/plain": [
       "array([[0, 1, 2, 0, 1, 2, 3, 4],\n",
       "       [3, 4, 5, 5, 6, 7, 8, 9]])"
      ]
     },
     "execution_count": 16,
     "metadata": {},
     "output_type": "execute_result"
    }
   ],
   "source": [
    "np.hstack([a,c])"
   ]
  },
  {
   "cell_type": "markdown",
   "id": "a1b5e790",
   "metadata": {},
   "source": [
    "7、数组的分割"
   ]
  },
  {
   "cell_type": "code",
   "execution_count": 24,
   "id": "e5aab17a",
   "metadata": {},
   "outputs": [],
   "source": [
    "#np.split()实现数组分割，它的参数indices_or_sections为整数（必须可以整除）或一维数组\n",
    "ary=np.arange(15)"
   ]
  },
  {
   "cell_type": "code",
   "execution_count": 29,
   "id": "187fc941",
   "metadata": {},
   "outputs": [
    {
     "data": {
      "text/plain": [
       "[array([0, 1, 2]),\n",
       " array([3, 4, 5]),\n",
       " array([6, 7, 8]),\n",
       " array([ 9, 10, 11]),\n",
       " array([12, 13, 14])]"
      ]
     },
     "execution_count": 29,
     "metadata": {},
     "output_type": "execute_result"
    }
   ],
   "source": [
    "np.split(ary,5)"
   ]
  },
  {
   "cell_type": "code",
   "execution_count": 30,
   "id": "80816b47",
   "metadata": {},
   "outputs": [
    {
     "data": {
      "text/plain": [
       "[array([0, 1]),\n",
       " array([2, 3, 4]),\n",
       " array([ 5,  6,  7,  8,  9, 10, 11, 12, 13, 14])]"
      ]
     },
     "execution_count": 30,
     "metadata": {},
     "output_type": "execute_result"
    }
   ],
   "source": [
    "np.split(ary,[2,5])"
   ]
  },
  {
   "cell_type": "markdown",
   "id": "65bbbfb2",
   "metadata": {},
   "source": [
    "8、Numpy的聚合运算"
   ]
  },
  {
   "cell_type": "code",
   "execution_count": 8,
   "id": "cbc73628",
   "metadata": {},
   "outputs": [],
   "source": [
    "#单一维度的聚合：sum、min、max\n",
    "\n",
    "a=np.arange(10)"
   ]
  },
  {
   "cell_type": "code",
   "execution_count": 9,
   "id": "8ae4214e",
   "metadata": {},
   "outputs": [
    {
     "data": {
      "text/plain": [
       "array([0, 1, 2, 3, 4, 5, 6, 7, 8, 9])"
      ]
     },
     "execution_count": 9,
     "metadata": {},
     "output_type": "execute_result"
    }
   ],
   "source": [
    "a"
   ]
  },
  {
   "cell_type": "code",
   "execution_count": 10,
   "id": "99526666",
   "metadata": {},
   "outputs": [
    {
     "data": {
      "text/plain": [
       "45"
      ]
     },
     "execution_count": 10,
     "metadata": {},
     "output_type": "execute_result"
    }
   ],
   "source": [
    "np.sum(a)"
   ]
  },
  {
   "cell_type": "code",
   "execution_count": 11,
   "id": "f2e81a55",
   "metadata": {},
   "outputs": [
    {
     "data": {
      "text/plain": [
       "45"
      ]
     },
     "execution_count": 11,
     "metadata": {},
     "output_type": "execute_result"
    }
   ],
   "source": [
    "a.sum()"
   ]
  },
  {
   "cell_type": "code",
   "execution_count": 12,
   "id": "cc8a0aa8",
   "metadata": {},
   "outputs": [
    {
     "data": {
      "text/plain": [
       "0"
      ]
     },
     "execution_count": 12,
     "metadata": {},
     "output_type": "execute_result"
    }
   ],
   "source": [
    "np.min(a)"
   ]
  },
  {
   "cell_type": "code",
   "execution_count": 13,
   "id": "ec950cdf",
   "metadata": {},
   "outputs": [
    {
     "data": {
      "text/plain": [
       "0"
      ]
     },
     "execution_count": 13,
     "metadata": {},
     "output_type": "execute_result"
    }
   ],
   "source": [
    "a.min()"
   ]
  },
  {
   "cell_type": "code",
   "execution_count": 14,
   "id": "1f9bb67e",
   "metadata": {},
   "outputs": [
    {
     "data": {
      "text/plain": [
       "9"
      ]
     },
     "execution_count": 14,
     "metadata": {},
     "output_type": "execute_result"
    }
   ],
   "source": [
    "np.max(a)"
   ]
  },
  {
   "cell_type": "code",
   "execution_count": 15,
   "id": "db59eb58",
   "metadata": {},
   "outputs": [
    {
     "data": {
      "text/plain": [
       "9"
      ]
     },
     "execution_count": 15,
     "metadata": {},
     "output_type": "execute_result"
    }
   ],
   "source": [
    "a.max()"
   ]
  },
  {
   "cell_type": "code",
   "execution_count": 21,
   "id": "29260d87",
   "metadata": {},
   "outputs": [],
   "source": [
    "#多维度聚合，一行一行或一列一列地做相应地操作\n",
    "ary=np.arange(16).reshape(4,4)"
   ]
  },
  {
   "cell_type": "code",
   "execution_count": 22,
   "id": "b96a74b8",
   "metadata": {},
   "outputs": [
    {
     "data": {
      "text/plain": [
       "array([[ 0,  1,  2,  3],\n",
       "       [ 4,  5,  6,  7],\n",
       "       [ 8,  9, 10, 11],\n",
       "       [12, 13, 14, 15]])"
      ]
     },
     "execution_count": 22,
     "metadata": {},
     "output_type": "execute_result"
    }
   ],
   "source": [
    "ary"
   ]
  },
  {
   "cell_type": "code",
   "execution_count": 25,
   "id": "2b9884c2",
   "metadata": {},
   "outputs": [
    {
     "data": {
      "text/plain": [
       "array([24, 28, 32, 36])"
      ]
     },
     "execution_count": 25,
     "metadata": {},
     "output_type": "execute_result"
    }
   ],
   "source": [
    "np.sum(ary,axis=0) #axis=0时，则沿着横轴方向（看纵轴）"
   ]
  },
  {
   "cell_type": "code",
   "execution_count": 26,
   "id": "a536f070",
   "metadata": {},
   "outputs": [
    {
     "data": {
      "text/plain": [
       "array([ 6, 22, 38, 54])"
      ]
     },
     "execution_count": 26,
     "metadata": {},
     "output_type": "execute_result"
    }
   ],
   "source": [
    "np.sum(ary,axis=1) #axis=1时，则沿着纵轴方向（看横轴）"
   ]
  },
  {
   "cell_type": "code",
   "execution_count": 28,
   "id": "4f00a3c3",
   "metadata": {},
   "outputs": [
    {
     "data": {
      "text/plain": [
       "array([0, 1, 2, 3])"
      ]
     },
     "execution_count": 28,
     "metadata": {},
     "output_type": "execute_result"
    }
   ],
   "source": [
    "np.min(ary,axis=0)"
   ]
  },
  {
   "cell_type": "code",
   "execution_count": 29,
   "id": "2c3a645a",
   "metadata": {},
   "outputs": [
    {
     "data": {
      "text/plain": [
       "array([ 0,  4,  8, 12])"
      ]
     },
     "execution_count": 29,
     "metadata": {},
     "output_type": "execute_result"
    }
   ],
   "source": [
    "np.min(ary,axis=1)"
   ]
  },
  {
   "cell_type": "code",
   "execution_count": 30,
   "id": "900d7e73",
   "metadata": {},
   "outputs": [],
   "source": [
    "#max、mean(均值)"
   ]
  },
  {
   "cell_type": "markdown",
   "id": "077e6f3e",
   "metadata": {},
   "source": [
    "Numpy的其它操作"
   ]
  },
  {
   "cell_type": "code",
   "execution_count": 32,
   "id": "d7afd4c9",
   "metadata": {},
   "outputs": [],
   "source": [
    "# argmin／argmax返回数组最小值／最大值的index\n",
    "\n",
    "a=np.random.random(20)"
   ]
  },
  {
   "cell_type": "code",
   "execution_count": 33,
   "id": "70afdc63",
   "metadata": {},
   "outputs": [
    {
     "data": {
      "text/plain": [
       "array([0.00986201, 0.85856264, 0.4466069 , 0.54954499, 0.66196761,\n",
       "       0.62035462, 0.02374403, 0.60184331, 0.00756412, 0.82644067,\n",
       "       0.07731234, 0.90073929, 0.09398673, 0.91223261, 0.16936361,\n",
       "       0.04951422, 0.33931149, 0.72876231, 0.71486854, 0.97866573])"
      ]
     },
     "execution_count": 33,
     "metadata": {},
     "output_type": "execute_result"
    }
   ],
   "source": [
    "a"
   ]
  },
  {
   "cell_type": "code",
   "execution_count": 34,
   "id": "07c1af0f",
   "metadata": {},
   "outputs": [
    {
     "data": {
      "text/plain": [
       "8"
      ]
     },
     "execution_count": 34,
     "metadata": {},
     "output_type": "execute_result"
    }
   ],
   "source": [
    "np.argmin(a)"
   ]
  },
  {
   "cell_type": "code",
   "execution_count": 35,
   "id": "51535184",
   "metadata": {},
   "outputs": [
    {
     "data": {
      "text/plain": [
       "0.007564122099009696"
      ]
     },
     "execution_count": 35,
     "metadata": {},
     "output_type": "execute_result"
    }
   ],
   "source": [
    "np.min(a)"
   ]
  },
  {
   "cell_type": "code",
   "execution_count": 36,
   "id": "504bbd08",
   "metadata": {},
   "outputs": [
    {
     "data": {
      "text/plain": [
       "array([[ 0,  1,  2,  3,  4],\n",
       "       [ 5,  6,  7,  8,  9],\n",
       "       [10, 11, 12, 13, 14],\n",
       "       [15, 16, 17, 18, 19]])"
      ]
     },
     "execution_count": 36,
     "metadata": {},
     "output_type": "execute_result"
    }
   ],
   "source": [
    "# shuffle打乱数组排序\n",
    "\n",
    "a=np.arange(20).reshape(4,5)\n",
    "a"
   ]
  },
  {
   "cell_type": "code",
   "execution_count": 40,
   "id": "5c08ad2d",
   "metadata": {},
   "outputs": [
    {
     "data": {
      "text/plain": [
       "array([[15, 16, 17, 18, 19],\n",
       "       [ 0,  1,  2,  3,  4],\n",
       "       [ 5,  6,  7,  8,  9],\n",
       "       [10, 11, 12, 13, 14]])"
      ]
     },
     "execution_count": 40,
     "metadata": {},
     "output_type": "execute_result"
    }
   ],
   "source": [
    "np.random.shuffle(a)\n",
    "a"
   ]
  },
  {
   "cell_type": "code",
   "execution_count": 42,
   "id": "55b8abcb",
   "metadata": {},
   "outputs": [
    {
     "data": {
      "text/plain": [
       "array([[15, 16, 17, 18, 19],\n",
       "       [ 0,  1,  2,  3,  4],\n",
       "       [ 5,  6,  7,  8,  9],\n",
       "       [10, 11, 12, 13, 14]])"
      ]
     },
     "execution_count": 42,
     "metadata": {},
     "output_type": "execute_result"
    }
   ],
   "source": [
    "np.sort(a,axis=1)"
   ]
  },
  {
   "cell_type": "code",
   "execution_count": 48,
   "id": "502b82b4",
   "metadata": {},
   "outputs": [
    {
     "data": {
      "text/plain": [
       "array([16, 18,  0,  2,  4,  6,  8, 10, 12, 14])"
      ]
     },
     "execution_count": 48,
     "metadata": {},
     "output_type": "execute_result"
    }
   ],
   "source": [
    "# 数组的筛选\n",
    "\n",
    "a[a%2==0]"
   ]
  },
  {
   "cell_type": "code",
   "execution_count": 46,
   "id": "669e6065",
   "metadata": {},
   "outputs": [
    {
     "data": {
      "text/plain": [
       "array([3, 4, 5, 6, 7, 8, 9])"
      ]
     },
     "execution_count": 46,
     "metadata": {},
     "output_type": "execute_result"
    }
   ],
   "source": [
    "a[(a>=3) & (a<10)]"
   ]
  },
  {
   "cell_type": "markdown",
   "id": "75bba457",
   "metadata": {},
   "source": [
    "# 练习"
   ]
  },
  {
   "cell_type": "code",
   "execution_count": 6,
   "id": "ee2d8b17",
   "metadata": {},
   "outputs": [
    {
     "name": "stdout",
     "output_type": "stream",
     "text": [
      "4.57 µs ± 147 ns per loop (mean ± std. dev. of 7 runs, 100000 loops each)\n",
      "68.7 µs ± 1.62 µs per loop (mean ± std. dev. of 7 runs, 10000 loops each)\n"
     ]
    }
   ],
   "source": [
    "import numpy as np\n",
    "\n",
    "def numpy_sum(n):\n",
    "    a=np.arange(n)**2\n",
    "    b=np.arange(n)**3\n",
    "    return a+b\n",
    "\n",
    "def python_num(n):\n",
    "    a=[i**2 for i in range(n)]\n",
    "    b=[i**3 for i in range(n)]\n",
    "    ab_sum=[]\n",
    "    for i in range(n):\n",
    "        ab_sum.append(a[i]+b[i])\n",
    "    return ab_sum\n",
    "\n",
    "\n",
    "%timeit numpy_sum(100)\n",
    "%timeit python_num(100)"
   ]
  },
  {
   "cell_type": "code",
   "execution_count": 14,
   "id": "50acac69",
   "metadata": {},
   "outputs": [
    {
     "data": {
      "text/plain": [
       "array([[3.5, 4.5, 5.5],\n",
       "       [6.5, 7.5, 8.5]])"
      ]
     },
     "execution_count": 14,
     "metadata": {},
     "output_type": "execute_result"
    }
   ],
   "source": [
    "np.array([[1,2,3],[4,5,6]],ndmin=2)+2.5 #np.array()的参数必须是一个可迭代对象"
   ]
  },
  {
   "cell_type": "code",
   "execution_count": 28,
   "id": "eace50f2",
   "metadata": {},
   "outputs": [
    {
     "data": {
      "text/plain": [
       "67"
      ]
     },
     "execution_count": 28,
     "metadata": {},
     "output_type": "execute_result"
    }
   ],
   "source": [
    "import numpy as np\n",
    "\n",
    "a=np.arange(0,201.0,3.0)\n",
    "a.size\n",
    "len(a)"
   ]
  },
  {
   "cell_type": "code",
   "execution_count": 21,
   "id": "98788c52",
   "metadata": {},
   "outputs": [
    {
     "name": "stdout",
     "output_type": "stream",
     "text": [
      "Day 1: 0.01 yuan\n",
      "Day 2: 0.02 yuan\n",
      "Day 3: 0.04 yuan\n",
      "Day 4: 0.08 yuan\n",
      "Day 5: 0.16 yuan\n",
      "Day 6: 0.32 yuan\n",
      "Day 7: 0.64 yuan\n",
      "Day 8: 1.28 yuan\n",
      "Day 9: 2.56 yuan\n",
      "Day 10: 5.12 yuan\n",
      "Day 11: 10.24 yuan\n",
      "Day 12: 20.48 yuan\n",
      "Day 13: 40.96 yuan\n",
      "Day 14: 81.92 yuan\n",
      "Day 15: 163.84 yuan\n",
      "Day 16: 327.68 yuan\n",
      "Day 17: 655.36 yuan\n",
      "Day 18: 1310.72 yuan\n",
      "Day 19: 2621.44 yuan\n",
      "Day 20: 5242.88 yuan\n",
      "Day 21: 10485.76 yuan\n",
      "Day 22: 20971.52 yuan\n",
      "Day 23: 41943.04 yuan\n",
      "Day 24: 83886.08 yuan\n",
      "Day 25: 167772.16 yuan\n",
      "Day 26: 335544.32 yuan\n",
      "Day 27: 671088.64 yuan\n",
      "Day 28: 1342177.28 yuan\n",
      "Day 29: 2684354.56 yuan\n",
      "Day 30: 5368709.12 yuan\n",
      "Total payment after 30 days: 10737418.23 yuan\n"
     ]
    }
   ],
   "source": [
    "day=30\n",
    "day_payments=np.logspace(0,29,i,base=2)*0.01\n",
    "total_payments=np.sum(day_payments)\n",
    "\n",
    "for day, payment in enumerate(day_payments, start=1):  \n",
    "    print(f\"Day {day}: {payment:.2f} yuan\")  \n",
    "\n",
    "print(f\"Total payment after {day} days: {total_payments:.2f} yuan\")  "
   ]
  },
  {
   "cell_type": "raw",
   "id": "daab4a8a",
   "metadata": {},
   "source": [
    "# np.logspace(0,9,10,base=2)\n",
    "# print(np.logspace(1,5,3,base=2))\n",
    "# print(np.logspace(1,2,10))\n"
   ]
  },
  {
   "cell_type": "markdown",
   "id": "10b70bd1",
   "metadata": {},
   "source": [
    "# 数组的切片和索引"
   ]
  },
  {
   "cell_type": "code",
   "execution_count": 42,
   "id": "39340f96",
   "metadata": {},
   "outputs": [
    {
     "name": "stdout",
     "output_type": "stream",
     "text": [
      "2\n",
      "[4 5 6 7 8 9]\n",
      "[0 1 2]\n",
      "[2 4 6]\n",
      "9\n"
     ]
    }
   ],
   "source": [
    "# 一维数组的切片操作和列表相同 [开始:结束:步长]\n",
    "ar1=np.arange(10)\n",
    "print(ar1[2]) # 索引+1就是我们平时元素在第几位\n",
    "print(ar1[4:]) # 表示从该索引开始以后的所有元素都将被提取\n",
    "print(ar1[:3]) # 表示从开始一直提取到该索引前一个元素\n",
    "print(ar1[2:7:2]) # 表示提取两个索引(不包括停止索引)之间的元素\n",
    "print(ar1[-1]) # 为负值时表示最后一个元素往前数, 最后一个元素的索引为-1"
   ]
  },
  {
   "cell_type": "code",
   "execution_count": 41,
   "id": "34ac446c",
   "metadata": {},
   "outputs": [
    {
     "name": "stdout",
     "output_type": "stream",
     "text": [
      "[ 1  3  5  7  9 11 13 15 17 19]\n",
      "15\n"
     ]
    }
   ],
   "source": [
    "ar2=np.arange(1,20,2)\n",
    "print(ar2)\n",
    "print(ar2[7])\n"
   ]
  },
  {
   "cell_type": "code",
   "execution_count": 43,
   "id": "cb4de05f",
   "metadata": {},
   "outputs": [
    {
     "data": {
      "text/plain": [
       "array([[ 0,  1,  2,  3,  4],\n",
       "       [ 5,  6,  7,  8,  9],\n",
       "       [10, 11, 12, 13, 14],\n",
       "       [15, 16, 17, 18, 19]])"
      ]
     },
     "execution_count": 43,
     "metadata": {},
     "output_type": "execute_result"
    }
   ],
   "source": [
    "# 二维数组的切片\n",
    "ar1=np.arange(20).reshape(4,5)\n",
    "ar1"
   ]
  },
  {
   "cell_type": "code",
   "execution_count": 50,
   "id": "be10349d",
   "metadata": {},
   "outputs": [
    {
     "name": "stdout",
     "output_type": "stream",
     "text": [
      "[15 16 17 18 19]\n",
      "\n",
      "\n",
      "17\n",
      "\n",
      "\n",
      "[[10 11 12 13 14]\n",
      " [15 16 17 18 19]]\n"
     ]
    }
   ],
   "source": [
    "print(ar1[3]) # 表示提取该数组的第4行所有元素, 是一个一维数组\n",
    "print(\"\\n\")\n",
    "print(ar1[3][2]) #表示提取该数组第4行第3列的元素, 是一个值\n",
    "print(\"\\n\")\n",
    "print(ar1[2:])"
   ]
  },
  {
   "cell_type": "code",
   "execution_count": 55,
   "id": "225de898",
   "metadata": {},
   "outputs": [
    {
     "name": "stdout",
     "output_type": "stream",
     "text": [
      "[ 1  6 11 16]\n",
      "\n",
      "\n",
      "[[ 1  2  3  4]\n",
      " [ 6  7  8  9]\n",
      " [11 12 13 14]\n",
      " [16 17 18 19]]\n"
     ]
    }
   ],
   "source": [
    "# 切片在行位置使用省略号, 将返回值将包含所有行元素, 反之将包含所有列元素\n",
    "\n",
    "print(ar1[...,1]) # 表示取所有行和第2列\n",
    "print(\"\\n\")\n",
    "print(ar1[...,1:]) # 表示取所有行和第2列后面所有的元素"
   ]
  },
  {
   "cell_type": "code",
   "execution_count": 56,
   "id": "505893d1",
   "metadata": {},
   "outputs": [
    {
     "data": {
      "text/plain": [
       "True"
      ]
     },
     "execution_count": 56,
     "metadata": {},
     "output_type": "execute_result"
    }
   ],
   "source": [
    "ar1[1,2]==ar1[1][2] # 返回值为True, 说明两个表达式结果一样,但原理不一样"
   ]
  },
  {
   "cell_type": "code",
   "execution_count": 58,
   "id": "02d09b75",
   "metadata": {},
   "outputs": [
    {
     "name": "stdout",
     "output_type": "stream",
     "text": [
      "[5 6 7 8 9]\n"
     ]
    }
   ],
   "source": [
    "print(ar1[...][1]) # ar1[...]就相当于ar1, 后面[1]自然就是取值该数组第2行"
   ]
  },
  {
   "cell_type": "code",
   "execution_count": 63,
   "id": "f1e7a892",
   "metadata": {},
   "outputs": [
    {
     "name": "stdout",
     "output_type": "stream",
     "text": [
      "[[1 2]\n",
      " [3 4]\n",
      " [5 6]]\n",
      "\n",
      "[1 4 5]\n"
     ]
    }
   ],
   "source": [
    "# 二维数组的索引\n",
    "\n",
    "ar1=np.array([[1,2],[3,4],[5,6]])\n",
    "ar2=ar1[[0,1,2],[0,1,0]] # [0,1,2]为行索引, [0,1,0]为列索引, ar2分别取ar1数组中的(0,0),(1,1)和(2,0)\n",
    "print(ar1,end=\"\\n\\n\")\n",
    "print(ar2)"
   ]
  },
  {
   "cell_type": "code",
   "execution_count": 67,
   "id": "5dc5e1d3",
   "metadata": {},
   "outputs": [
    {
     "name": "stdout",
     "output_type": "stream",
     "text": [
      "[ 0  2  9 11]\n",
      "<class 'numpy.ndarray'>\n"
     ]
    }
   ],
   "source": [
    "# 获取4*3数组中的四个角上元素\n",
    "\n",
    "b=np.array([[0,1,2],\n",
    "            [3,4,5],\n",
    "            [6,7,8],\n",
    "            [9,10,11]\n",
    "           ])\n",
    "a=b[[0,0,3,3],[0,2,0,2]].reshape(2,2)\n",
    "print(a)\n",
    "print(type(a))"
   ]
  },
  {
   "cell_type": "code",
   "execution_count": 71,
   "id": "4a855e00",
   "metadata": {},
   "outputs": [
    {
     "name": "stdout",
     "output_type": "stream",
     "text": [
      "[[0 0 0 0 0 0 0 0]\n",
      " [0 0 0 0 0 0 0 0]\n",
      " [0 0 0 0 0 0 0 0]\n",
      " [0 0 0 0 0 0 0 0]\n",
      " [0 0 0 0 0 0 0 0]\n",
      " [0 0 0 0 0 0 0 0]\n",
      " [0 0 0 0 0 0 0 0]\n",
      " [0 0 0 0 0 0 0 0]]\n"
     ]
    },
    {
     "data": {
      "text/plain": [
       "array([[0, 1, 0, 1, 0, 1, 0, 1],\n",
       "       [1, 0, 1, 0, 1, 0, 1, 0],\n",
       "       [0, 1, 0, 1, 0, 1, 0, 1],\n",
       "       [1, 0, 1, 0, 1, 0, 1, 0],\n",
       "       [0, 1, 0, 1, 0, 1, 0, 1],\n",
       "       [1, 0, 1, 0, 1, 0, 1, 0],\n",
       "       [0, 1, 0, 1, 0, 1, 0, 1],\n",
       "       [1, 0, 1, 0, 1, 0, 1, 0]])"
      ]
     },
     "execution_count": 71,
     "metadata": {},
     "output_type": "execute_result"
    }
   ],
   "source": [
    "# 创建一个8*8的国际象棋棋盘矩阵(黑块为0,白块为1)\n",
    "z=np.zeros((8,8),dtype=int)\n",
    "print(z)\n",
    "z[1::2,::2]=1\n",
    "z[::2,1::2]=1\n",
    "z"
   ]
  },
  {
   "cell_type": "markdown",
   "id": "03e6c6e4",
   "metadata": {},
   "source": [
    "# 布尔数组索引"
   ]
  },
  {
   "cell_type": "code",
   "execution_count": 80,
   "id": "e07a5cd9",
   "metadata": {},
   "outputs": [
    {
     "name": "stdout",
     "output_type": "stream",
     "text": [
      "[ 1  3  5  7  9 11]\n",
      "[[ 0 -1  2]\n",
      " [-1  4 -1]\n",
      " [ 6 -1  8]\n",
      " [-1 10 -1]]\n"
     ]
    }
   ],
   "source": [
    "# 提取出数组中的奇数, 并修改奇数值为-1\n",
    "b=np.array([[0,1,2],\n",
    "            [3,4,5],\n",
    "            [6,7,8],\n",
    "            [9,10,11]\n",
    "           ])\n",
    "print(b[b%2==1])\n",
    "# b[::2,1::2]=-1\n",
    "# b[1::2,::2]=-1\n",
    "b[b%2==1]=-1\n",
    "print(b)"
   ]
  },
  {
   "cell_type": "markdown",
   "id": "0a5137c6",
   "metadata": {},
   "source": [
    "        &:和  |:或"
   ]
  },
  {
   "cell_type": "markdown",
   "id": "60de61c3",
   "metadata": {},
   "source": [
    "用True和False的形式表示是否需要数据"
   ]
  },
  {
   "cell_type": "code",
   "execution_count": 2,
   "id": "6d814780",
   "metadata": {},
   "outputs": [
    {
     "data": {
      "text/plain": [
       "array([[ 0,  1,  2,  3],\n",
       "       [ 4,  5,  6,  7],\n",
       "       [ 8,  9, 10, 11]])"
      ]
     },
     "execution_count": 2,
     "metadata": {},
     "output_type": "execute_result"
    }
   ],
   "source": [
    "# 创建一个3行4列的数组\n",
    "ar1=np.arange(12).reshape(3,4)\n",
    "ar1"
   ]
  },
  {
   "cell_type": "code",
   "execution_count": 10,
   "id": "c3cf35ae",
   "metadata": {},
   "outputs": [
    {
     "name": "stdout",
     "output_type": "stream",
     "text": [
      "[[ 4  5  6  7]\n",
      " [ 8  9 10 11]]\n",
      "\n",
      "\n",
      "[[ 0  2]\n",
      " [ 4  6]\n",
      " [ 8 10]]\n"
     ]
    }
   ],
   "source": [
    "#用True和False提取行和列\n",
    "\n",
    "row1=np.array([False,True,True])\n",
    "column1=np.array([True,False,True,False])\n",
    "print(ar1[row1])\n",
    "print(\"\\n\")\n",
    "print(ar1[:,column1])"
   ]
  },
  {
   "cell_type": "code",
   "execution_count": 30,
   "id": "468e1fd5",
   "metadata": {},
   "outputs": [
    {
     "data": {
      "text/plain": [
       "array([[  0,   1,   2,   3],\n",
       "       [  4, 100,   6,   7],\n",
       "       [  8,   9,  10,  11]])"
      ]
     },
     "execution_count": 30,
     "metadata": {},
     "output_type": "execute_result"
    }
   ],
   "source": [
    "ar1[1,1]=100\n",
    "ar1"
   ]
  },
  {
   "cell_type": "code",
   "execution_count": 27,
   "id": "8bed4e43",
   "metadata": {},
   "outputs": [
    {
     "data": {
      "text/plain": [
       "array([[ 0,  2,  3],\n",
       "       [ 8, 10, 11]])"
      ]
     },
     "execution_count": 27,
     "metadata": {},
     "output_type": "execute_result"
    }
   ],
   "source": [
    "# 选择ar1数组中的第一行和最后一行及第1,3,4列的元素\n",
    "ar2=ar1[[0,-1],:] #先选取行元素\n",
    "ar2[:,[0,2,3]]"
   ]
  },
  {
   "cell_type": "markdown",
   "id": "c55d289d",
   "metadata": {},
   "source": [
    "# 统计函数"
   ]
  },
  {
   "cell_type": "code",
   "execution_count": 1,
   "id": "64161832",
   "metadata": {},
   "outputs": [
    {
     "name": "stdout",
     "output_type": "stream",
     "text": [
      "[[ 0  1  2  3  4]\n",
      " [ 5  6  7  8  9]\n",
      " [10 11 12 13 14]\n",
      " [15 16 17 18 19]]\n",
      "9.5\n",
      "[ 7.5  8.5  9.5 10.5 11.5]\n",
      "[ 2.  7. 12. 17.]\n"
     ]
    }
   ],
   "source": [
    "# 求平均值mean()\n",
    "\n",
    "import numpy as np\n",
    "\n",
    "ar1=np.arange(20).reshape(4,5)\n",
    "print(ar1)\n",
    "print(ar1.mean())\n",
    "print(ar1.mean(axis=0)) # axis=0表示按行求平均值\n",
    "print(ar1.mean(axis=1)) # axis=1表示按列求平均值"
   ]
  },
  {
   "cell_type": "code",
   "execution_count": 36,
   "id": "07021d8e",
   "metadata": {},
   "outputs": [
    {
     "name": "stdout",
     "output_type": "stream",
     "text": [
      "5.0\n",
      "5.5\n"
     ]
    }
   ],
   "source": [
    "# 中位数median(), 是按顺序排列的一组数据中居于中间位置的数. 若数组元素的个数为奇数,则中间元素就是中位数; 若为偶数, 中位数则为中间两个元素的平均值\n",
    "\n",
    "ar1=np.array([1,3,5,6,8])\n",
    "print(np.median(ar1)) # 数组中间的元素是5\n",
    "ar2=np.array([1,3,5,6,8,9])\n",
    "print(np.median(ar2)) # 数组中间两个元素的平均数为5.5"
   ]
  },
  {
   "cell_type": "code",
   "execution_count": 37,
   "id": "0c53f0da",
   "metadata": {},
   "outputs": [
    {
     "name": "stdout",
     "output_type": "stream",
     "text": [
      "17.07825127659933\n",
      "2.160246899469287\n"
     ]
    }
   ],
   "source": [
    "# 标准差std()\n",
    "\n",
    "# 在概率统计中最常使用作为统计分布程度上的测量, 是反映一级数据离散程度最常用的一种量化形式\n",
    "# 定义: 是总体各单位标准值与其平均数离差平方的算术平均数的平方根. 即标准差是一级数据平均值分散程度的一种度量.\n",
    "# 一个较大的标准差, 代表大部分数值是和其平均值之间的差异较大; 一个较小的标准差, 代表这些数值较接近平均值.\n",
    "\n",
    "a=np.array([95,85,75,65,55,45])\n",
    "b=np.array([73,72,71,69,68,67])\n",
    "\n",
    "print(np.std(a))\n",
    "print(np.std(b)) # b数组的标准差更小, 代表b数组元素更接近它的平均值"
   ]
  },
  {
   "cell_type": "code",
   "execution_count": 15,
   "id": "f78e3182",
   "metadata": {},
   "outputs": [
    {
     "name": "stdout",
     "output_type": "stream",
     "text": [
      "总体方差:  2.0\n",
      "样本方差:  3.3333333333333335\n"
     ]
    }
   ],
   "source": [
    "# 方差var()\n",
    "\n",
    "# 方差用于衡量一组数据的分散程度. 它是表示数据点与其均值之间的平均平方差.\n",
    "# 它反映了数据的波动程度, 方差越大, 说明数据的分散程度越大; 反之, 说明数据的分散程度越小.\n",
    "# 方差计算过程: 1.计算所有元素的平均值; 2.计算每个元素与平均值的差; 3.将每个平均值的差平方; 4.计算所有平方差的平均值.\n",
    "\n",
    "ar1=np.array([1,2,3,4,5])\n",
    "overall_var=np.var(ar1) # 计算总体方差\n",
    "print(\"总体方差: \",overall_var)\n",
    "simple_var=np.var(ar1,ddof=1) #计算样本方差\n",
    "print(\"样本方差: \",simple_var)"
   ]
  },
  {
   "cell_type": "code",
   "execution_count": 6,
   "id": "4fe5f11b",
   "metadata": {},
   "outputs": [
    {
     "name": "stdout",
     "output_type": "stream",
     "text": [
      "[[ 0  1  2  3  4]\n",
      " [ 5  6  7  8  9]\n",
      " [10 11 12 13 14]\n",
      " [15 16 17 18 19]]\n",
      "最大值:  19\n",
      "axis=0, 从上往下查找:  [15 16 17 18 19]\n",
      "axis=1, 从左往右查找:  [ 4  9 14 19]\n",
      "\n",
      "\n",
      "最小值:  0\n",
      "axis=0, 从上往下查找:  [0 1 2 3 4]\n",
      "axis=1, 从左往右查找:  [ 0  5 10 15]\n",
      "\n",
      "\n",
      "总和:  190\n",
      "axis=0, 从上往下求和:  [30 34 38 42 46]\n",
      "axis=1, 从左往右求和:  [10 35 60 85]\n"
     ]
    }
   ],
   "source": [
    "# 最大值max() / 最小值min() / 求和sum()\n",
    "\n",
    "print(ar1)\n",
    "print(\"最大值: \",ar1.max())\n",
    "print(\"axis=0, 从上往下查找: \",ar1.max(axis=0))\n",
    "print(\"axis=1, 从左往右查找: \",ar1.max(axis=1))\n",
    "print(\"\\n\")\n",
    "print(\"最小值: \",ar1.min())\n",
    "print(\"axis=0, 从上往下查找: \",ar1.min(axis=0))\n",
    "print(\"axis=1, 从左往右查找: \",ar1.min(axis=1))\n",
    "print(\"\\n\")\n",
    "print(\"总和: \",ar1.sum())\n",
    "print(\"axis=0, 从上往下求和: \",ar1.sum(axis=0))\n",
    "print(\"axis=1, 从左往右求和: \",ar1.sum(axis=1))"
   ]
  },
  {
   "cell_type": "code",
   "execution_count": 9,
   "id": "8f531ee2",
   "metadata": {},
   "outputs": [
    {
     "name": "stdout",
     "output_type": "stream",
     "text": [
      "33.333333333333336\n",
      "33.333333333333336\n"
     ]
    }
   ],
   "source": [
    "# 加权平均值average(), 即将各数值乘以相应的权数, 得到总和, 再除以元素个数\n",
    "\n",
    "ar1=[30,20,50]\n",
    "print(np.average(ar1)) # 当没有权重时, 和np.mean()结果相同\n",
    "print(np.mean(ar1))"
   ]
  },
  {
   "attachments": {
    "%E5%9B%BE%E7%89%87.png": {
     "image/png": "[encoded data removed]"
    }
   },
   "cell_type": "markdown",
   "id": "b5b48757",
   "metadata": {},
   "source": [
    "# ![%E5%9B%BE%E7%89%87.png](attachment:%E5%9B%BE%E7%89%87.png)"
   ]
  },
  {
   "cell_type": "code",
   "execution_count": 12,
   "id": "a87af079",
   "metadata": {},
   "outputs": [
    {
     "name": "stdout",
     "output_type": "stream",
     "text": [
      "90.5\n",
      "86.0\n"
     ]
    }
   ],
   "source": [
    "ming=np.array([80,90,95])\n",
    "gang=np.array([95,90,80])\n",
    "weight=np.array([0.2,0.3,0.5])\n",
    "ming_aver=np.average(ming,weights=weight)\n",
    "gang_aver=np.average(gang,weights=weight)\n",
    "print(ming_aver)\n",
    "print(gang_aver)\n"
   ]
  }
 ],
 "metadata": {
  "kernelspec": {
   "display_name": "Python 3 (ipykernel)",
   "language": "python",
   "name": "python3"
  },
  "language_info": {
   "codemirror_mode": {
    "name": "ipython",
    "version": 3
   },
   "file_extension": ".py",
   "mimetype": "text/x-python",
   "name": "python",
   "nbconvert_exporter": "python",
   "pygments_lexer": "ipython3",
   "version": "3.10.12"
  }
 },
 "nbformat": 4,
 "nbformat_minor": 5
}
